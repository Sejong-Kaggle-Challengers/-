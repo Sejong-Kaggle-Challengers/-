{
 "cells": [
  {
   "cell_type": "code",
   "execution_count": 1,
   "id": "f9d5cadd",
   "metadata": {
    "_cell_guid": "b1076dfc-b9ad-4769-8c92-a6c4dae69d19",
    "_uuid": "8f2839f25d086af736a60e9eeb907d3b93b6e0e5",
    "execution": {
     "iopub.execute_input": "2021-10-04T11:26:30.439355Z",
     "iopub.status.busy": "2021-10-04T11:26:30.438216Z",
     "iopub.status.idle": "2021-10-04T11:26:30.449590Z",
     "shell.execute_reply": "2021-10-04T11:26:30.450195Z",
     "shell.execute_reply.started": "2021-10-04T10:02:14.384965Z"
    },
    "papermill": {
     "duration": 0.069422,
     "end_time": "2021-10-04T11:26:30.450490",
     "exception": false,
     "start_time": "2021-10-04T11:26:30.381068",
     "status": "completed"
    },
    "tags": []
   },
   "outputs": [
    {
     "name": "stdout",
     "output_type": "stream",
     "text": [
      "/kaggle/input/titanic/train.csv\n",
      "/kaggle/input/titanic/test.csv\n",
      "/kaggle/input/titanic/gender_submission.csv\n"
     ]
    }
   ],
   "source": [
    "# This Python 3 environment comes with many helpful analytics libraries installed\n",
    "# It is defined by the kaggle/python Docker image: https://github.com/kaggle/docker-python\n",
    "# For example, here's several helpful packages to load\n",
    "\n",
    "import numpy as np # linear algebra\n",
    "import pandas as pd # data processing, CSV file I/O (e.g. pd.read_csv)\n",
    "\n",
    "# Input data files are available in the read-only \"../input/\" directory\n",
    "# For example, running this (by clicking run or pressing Shift+Enter) will list all files under the input directory\n",
    "\n",
    "import os\n",
    "for dirname, _, filenames in os.walk('/kaggle/input'):\n",
    "    for filename in filenames:\n",
    "        print(os.path.join(dirname, filename))\n",
    "\n",
    "# You can write up to 20GB to the current directory (/kaggle/working/) that gets preserved as output when you create a version using \"Save & Run All\" \n",
    "# You can also write temporary files to /kaggle/temp/, but they won't be saved outside of the current session"
   ]
  },
  {
   "cell_type": "markdown",
   "id": "a63d7c55",
   "metadata": {
    "papermill": {
     "duration": 0.05103,
     "end_time": "2021-10-04T11:26:30.554752",
     "exception": false,
     "start_time": "2021-10-04T11:26:30.503722",
     "status": "completed"
    },
    "tags": []
   },
   "source": [
    "# Introduction"
   ]
  },
  {
   "cell_type": "code",
   "execution_count": 2,
   "id": "f7a7f48c",
   "metadata": {
    "execution": {
     "iopub.execute_input": "2021-10-04T11:26:30.663778Z",
     "iopub.status.busy": "2021-10-04T11:26:30.663133Z",
     "iopub.status.idle": "2021-10-04T11:26:31.921302Z",
     "shell.execute_reply": "2021-10-04T11:26:31.920748Z",
     "shell.execute_reply.started": "2021-10-04T10:02:14.420281Z"
    },
    "papermill": {
     "duration": 1.315232,
     "end_time": "2021-10-04T11:26:31.921441",
     "exception": false,
     "start_time": "2021-10-04T11:26:30.606209",
     "status": "completed"
    },
    "tags": []
   },
   "outputs": [],
   "source": [
    "import pandas as pd\n",
    "import numpy as np\n",
    "import matplotlib.pyplot as plt\n",
    "import seaborn as sns\n",
    "%matplotlib inline\n",
    "\n",
    "from collections import Counter\n",
    "\n",
    "from sklearn.ensemble import RandomForestClassifier, AdaBoostClassifier, GradientBoostingClassifier, ExtraTreesClassifier, VotingClassifier\n",
    "from sklearn.discriminant_analysis import LinearDiscriminantAnalysis\n",
    "from sklearn.linear_model import LogisticRegression\n",
    "from sklearn.neighbors import KNeighborsClassifier\n",
    "from sklearn.tree import DecisionTreeClassifier\n",
    "from sklearn.neural_network import MLPClassifier\n",
    "from sklearn.svm import SVC\n",
    "from sklearn.model_selection import GridSearchCV, cross_val_score, StratifiedKFold, learning_curve\n",
    "\n",
    "sns.set(style='white', context='notebook', palette='deep')"
   ]
  },
  {
   "cell_type": "markdown",
   "id": "2e108449",
   "metadata": {
    "papermill": {
     "duration": 0.050748,
     "end_time": "2021-10-04T11:26:32.024560",
     "exception": false,
     "start_time": "2021-10-04T11:26:31.973812",
     "status": "completed"
    },
    "tags": []
   },
   "source": [
    "# Load and check data"
   ]
  },
  {
   "cell_type": "code",
   "execution_count": 3,
   "id": "a23d350b",
   "metadata": {
    "execution": {
     "iopub.execute_input": "2021-10-04T11:26:32.130729Z",
     "iopub.status.busy": "2021-10-04T11:26:32.130165Z",
     "iopub.status.idle": "2021-10-04T11:26:32.190540Z",
     "shell.execute_reply": "2021-10-04T11:26:32.190024Z",
     "shell.execute_reply.started": "2021-10-04T10:02:15.705272Z"
    },
    "papermill": {
     "duration": 0.114832,
     "end_time": "2021-10-04T11:26:32.190693",
     "exception": false,
     "start_time": "2021-10-04T11:26:32.075861",
     "status": "completed"
    },
    "tags": []
   },
   "outputs": [
    {
     "data": {
      "text/html": [
       "<div>\n",
       "<style scoped>\n",
       "    .dataframe tbody tr th:only-of-type {\n",
       "        vertical-align: middle;\n",
       "    }\n",
       "\n",
       "    .dataframe tbody tr th {\n",
       "        vertical-align: top;\n",
       "    }\n",
       "\n",
       "    .dataframe thead th {\n",
       "        text-align: right;\n",
       "    }\n",
       "</style>\n",
       "<table border=\"1\" class=\"dataframe\">\n",
       "  <thead>\n",
       "    <tr style=\"text-align: right;\">\n",
       "      <th></th>\n",
       "      <th>PassengerId</th>\n",
       "      <th>Survived</th>\n",
       "      <th>Pclass</th>\n",
       "      <th>Name</th>\n",
       "      <th>Sex</th>\n",
       "      <th>Age</th>\n",
       "      <th>SibSp</th>\n",
       "      <th>Parch</th>\n",
       "      <th>Ticket</th>\n",
       "      <th>Fare</th>\n",
       "      <th>Cabin</th>\n",
       "      <th>Embarked</th>\n",
       "    </tr>\n",
       "  </thead>\n",
       "  <tbody>\n",
       "    <tr>\n",
       "      <th>0</th>\n",
       "      <td>1</td>\n",
       "      <td>0</td>\n",
       "      <td>3</td>\n",
       "      <td>Braund, Mr. Owen Harris</td>\n",
       "      <td>male</td>\n",
       "      <td>22.0</td>\n",
       "      <td>1</td>\n",
       "      <td>0</td>\n",
       "      <td>A/5 21171</td>\n",
       "      <td>7.2500</td>\n",
       "      <td>NaN</td>\n",
       "      <td>S</td>\n",
       "    </tr>\n",
       "    <tr>\n",
       "      <th>1</th>\n",
       "      <td>2</td>\n",
       "      <td>1</td>\n",
       "      <td>1</td>\n",
       "      <td>Cumings, Mrs. John Bradley (Florence Briggs Th...</td>\n",
       "      <td>female</td>\n",
       "      <td>38.0</td>\n",
       "      <td>1</td>\n",
       "      <td>0</td>\n",
       "      <td>PC 17599</td>\n",
       "      <td>71.2833</td>\n",
       "      <td>C85</td>\n",
       "      <td>C</td>\n",
       "    </tr>\n",
       "    <tr>\n",
       "      <th>2</th>\n",
       "      <td>3</td>\n",
       "      <td>1</td>\n",
       "      <td>3</td>\n",
       "      <td>Heikkinen, Miss. Laina</td>\n",
       "      <td>female</td>\n",
       "      <td>26.0</td>\n",
       "      <td>0</td>\n",
       "      <td>0</td>\n",
       "      <td>STON/O2. 3101282</td>\n",
       "      <td>7.9250</td>\n",
       "      <td>NaN</td>\n",
       "      <td>S</td>\n",
       "    </tr>\n",
       "    <tr>\n",
       "      <th>3</th>\n",
       "      <td>4</td>\n",
       "      <td>1</td>\n",
       "      <td>1</td>\n",
       "      <td>Futrelle, Mrs. Jacques Heath (Lily May Peel)</td>\n",
       "      <td>female</td>\n",
       "      <td>35.0</td>\n",
       "      <td>1</td>\n",
       "      <td>0</td>\n",
       "      <td>113803</td>\n",
       "      <td>53.1000</td>\n",
       "      <td>C123</td>\n",
       "      <td>S</td>\n",
       "    </tr>\n",
       "    <tr>\n",
       "      <th>4</th>\n",
       "      <td>5</td>\n",
       "      <td>0</td>\n",
       "      <td>3</td>\n",
       "      <td>Allen, Mr. William Henry</td>\n",
       "      <td>male</td>\n",
       "      <td>35.0</td>\n",
       "      <td>0</td>\n",
       "      <td>0</td>\n",
       "      <td>373450</td>\n",
       "      <td>8.0500</td>\n",
       "      <td>NaN</td>\n",
       "      <td>S</td>\n",
       "    </tr>\n",
       "  </tbody>\n",
       "</table>\n",
       "</div>"
      ],
      "text/plain": [
       "   PassengerId  Survived  Pclass  \\\n",
       "0            1         0       3   \n",
       "1            2         1       1   \n",
       "2            3         1       3   \n",
       "3            4         1       1   \n",
       "4            5         0       3   \n",
       "\n",
       "                                                Name     Sex   Age  SibSp  \\\n",
       "0                            Braund, Mr. Owen Harris    male  22.0      1   \n",
       "1  Cumings, Mrs. John Bradley (Florence Briggs Th...  female  38.0      1   \n",
       "2                             Heikkinen, Miss. Laina  female  26.0      0   \n",
       "3       Futrelle, Mrs. Jacques Heath (Lily May Peel)  female  35.0      1   \n",
       "4                           Allen, Mr. William Henry    male  35.0      0   \n",
       "\n",
       "   Parch            Ticket     Fare Cabin Embarked  \n",
       "0      0         A/5 21171   7.2500   NaN        S  \n",
       "1      0          PC 17599  71.2833   C85        C  \n",
       "2      0  STON/O2. 3101282   7.9250   NaN        S  \n",
       "3      0            113803  53.1000  C123        S  \n",
       "4      0            373450   8.0500   NaN        S  "
      ]
     },
     "execution_count": 3,
     "metadata": {},
     "output_type": "execute_result"
    }
   ],
   "source": [
    "train=pd.read_csv(\"/kaggle/input/titanic/train.csv\")\n",
    "test=pd.read_csv(\"/kaggle/input/titanic/test.csv\")\n",
    "IDtest=pd.read_csv(\"/kaggle/input/titanic/gender_submission.csv\")\n",
    "train.head()"
   ]
  },
  {
   "cell_type": "code",
   "execution_count": 4,
   "id": "fdc2d031",
   "metadata": {
    "execution": {
     "iopub.execute_input": "2021-10-04T11:26:32.315228Z",
     "iopub.status.busy": "2021-10-04T11:26:32.314207Z",
     "iopub.status.idle": "2021-10-04T11:26:32.327016Z",
     "shell.execute_reply": "2021-10-04T11:26:32.326008Z",
     "shell.execute_reply.started": "2021-10-04T10:02:15.770439Z"
    },
    "papermill": {
     "duration": 0.081721,
     "end_time": "2021-10-04T11:26:32.327184",
     "exception": false,
     "start_time": "2021-10-04T11:26:32.245463",
     "status": "completed"
    },
    "tags": []
   },
   "outputs": [],
   "source": [
    "def detect_outliers(df, n, features):\n",
    "    outlier_indices=[]\n",
    "    for col in features:\n",
    "        Q1=np.percentile(df[col],25)\n",
    "        Q3=np.percentile(df[col],75)\n",
    "        IQR=Q3-Q1\n",
    "        \n",
    "        outlier_step=1.5*IQR\n",
    "        \n",
    "        outlier_list_col = df[(df[col]< Q1 - outlier_step) | (df[col] > Q3 + outlier_step)].index\n",
    "        outlier_indices.extend(outlier_list_col)\n",
    "        \n",
    "    outlier_indices=Counter(outlier_indices)\n",
    "    multiple_outliers = list(k for k,v in outlier_indices.items() if v>n)\n",
    "        \n",
    "    return multiple_outliers\n",
    "        \n",
    "Outliers_to_drop= detect_outliers(train,2,[\"Age\",\"SibSp\",\"Parch\",\"Fare\"])"
   ]
  },
  {
   "cell_type": "code",
   "execution_count": 5,
   "id": "7f49335b",
   "metadata": {
    "execution": {
     "iopub.execute_input": "2021-10-04T11:26:32.439997Z",
     "iopub.status.busy": "2021-10-04T11:26:32.439149Z",
     "iopub.status.idle": "2021-10-04T11:26:32.442999Z",
     "shell.execute_reply": "2021-10-04T11:26:32.443453Z",
     "shell.execute_reply.started": "2021-10-04T10:02:15.793074Z"
    },
    "papermill": {
     "duration": 0.062712,
     "end_time": "2021-10-04T11:26:32.443612",
     "exception": false,
     "start_time": "2021-10-04T11:26:32.380900",
     "status": "completed"
    },
    "tags": []
   },
   "outputs": [
    {
     "name": "stdout",
     "output_type": "stream",
     "text": [
      "0.0\n",
      "1.0\n"
     ]
    }
   ],
   "source": [
    "print(np.percentile(train[\"SibSp\"],25))\n",
    "print(np.percentile(train[\"SibSp\"],75))"
   ]
  },
  {
   "cell_type": "code",
   "execution_count": 6,
   "id": "9cca7c07",
   "metadata": {
    "execution": {
     "iopub.execute_input": "2021-10-04T11:26:32.569028Z",
     "iopub.status.busy": "2021-10-04T11:26:32.568070Z",
     "iopub.status.idle": "2021-10-04T11:26:32.585744Z",
     "shell.execute_reply": "2021-10-04T11:26:32.586335Z",
     "shell.execute_reply.started": "2021-10-04T10:02:15.803416Z"
    },
    "papermill": {
     "duration": 0.088175,
     "end_time": "2021-10-04T11:26:32.586507",
     "exception": false,
     "start_time": "2021-10-04T11:26:32.498332",
     "status": "completed"
    },
    "tags": []
   },
   "outputs": [
    {
     "data": {
      "text/html": [
       "<div>\n",
       "<style scoped>\n",
       "    .dataframe tbody tr th:only-of-type {\n",
       "        vertical-align: middle;\n",
       "    }\n",
       "\n",
       "    .dataframe tbody tr th {\n",
       "        vertical-align: top;\n",
       "    }\n",
       "\n",
       "    .dataframe thead th {\n",
       "        text-align: right;\n",
       "    }\n",
       "</style>\n",
       "<table border=\"1\" class=\"dataframe\">\n",
       "  <thead>\n",
       "    <tr style=\"text-align: right;\">\n",
       "      <th></th>\n",
       "      <th>PassengerId</th>\n",
       "      <th>Survived</th>\n",
       "      <th>Pclass</th>\n",
       "      <th>Name</th>\n",
       "      <th>Sex</th>\n",
       "      <th>Age</th>\n",
       "      <th>SibSp</th>\n",
       "      <th>Parch</th>\n",
       "      <th>Ticket</th>\n",
       "      <th>Fare</th>\n",
       "      <th>Cabin</th>\n",
       "      <th>Embarked</th>\n",
       "    </tr>\n",
       "  </thead>\n",
       "  <tbody>\n",
       "    <tr>\n",
       "      <th>27</th>\n",
       "      <td>28</td>\n",
       "      <td>0</td>\n",
       "      <td>1</td>\n",
       "      <td>Fortune, Mr. Charles Alexander</td>\n",
       "      <td>male</td>\n",
       "      <td>19.0</td>\n",
       "      <td>3</td>\n",
       "      <td>2</td>\n",
       "      <td>19950</td>\n",
       "      <td>263.00</td>\n",
       "      <td>C23 C25 C27</td>\n",
       "      <td>S</td>\n",
       "    </tr>\n",
       "    <tr>\n",
       "      <th>88</th>\n",
       "      <td>89</td>\n",
       "      <td>1</td>\n",
       "      <td>1</td>\n",
       "      <td>Fortune, Miss. Mabel Helen</td>\n",
       "      <td>female</td>\n",
       "      <td>23.0</td>\n",
       "      <td>3</td>\n",
       "      <td>2</td>\n",
       "      <td>19950</td>\n",
       "      <td>263.00</td>\n",
       "      <td>C23 C25 C27</td>\n",
       "      <td>S</td>\n",
       "    </tr>\n",
       "    <tr>\n",
       "      <th>159</th>\n",
       "      <td>160</td>\n",
       "      <td>0</td>\n",
       "      <td>3</td>\n",
       "      <td>Sage, Master. Thomas Henry</td>\n",
       "      <td>male</td>\n",
       "      <td>NaN</td>\n",
       "      <td>8</td>\n",
       "      <td>2</td>\n",
       "      <td>CA. 2343</td>\n",
       "      <td>69.55</td>\n",
       "      <td>NaN</td>\n",
       "      <td>S</td>\n",
       "    </tr>\n",
       "    <tr>\n",
       "      <th>180</th>\n",
       "      <td>181</td>\n",
       "      <td>0</td>\n",
       "      <td>3</td>\n",
       "      <td>Sage, Miss. Constance Gladys</td>\n",
       "      <td>female</td>\n",
       "      <td>NaN</td>\n",
       "      <td>8</td>\n",
       "      <td>2</td>\n",
       "      <td>CA. 2343</td>\n",
       "      <td>69.55</td>\n",
       "      <td>NaN</td>\n",
       "      <td>S</td>\n",
       "    </tr>\n",
       "    <tr>\n",
       "      <th>201</th>\n",
       "      <td>202</td>\n",
       "      <td>0</td>\n",
       "      <td>3</td>\n",
       "      <td>Sage, Mr. Frederick</td>\n",
       "      <td>male</td>\n",
       "      <td>NaN</td>\n",
       "      <td>8</td>\n",
       "      <td>2</td>\n",
       "      <td>CA. 2343</td>\n",
       "      <td>69.55</td>\n",
       "      <td>NaN</td>\n",
       "      <td>S</td>\n",
       "    </tr>\n",
       "    <tr>\n",
       "      <th>324</th>\n",
       "      <td>325</td>\n",
       "      <td>0</td>\n",
       "      <td>3</td>\n",
       "      <td>Sage, Mr. George John Jr</td>\n",
       "      <td>male</td>\n",
       "      <td>NaN</td>\n",
       "      <td>8</td>\n",
       "      <td>2</td>\n",
       "      <td>CA. 2343</td>\n",
       "      <td>69.55</td>\n",
       "      <td>NaN</td>\n",
       "      <td>S</td>\n",
       "    </tr>\n",
       "    <tr>\n",
       "      <th>341</th>\n",
       "      <td>342</td>\n",
       "      <td>1</td>\n",
       "      <td>1</td>\n",
       "      <td>Fortune, Miss. Alice Elizabeth</td>\n",
       "      <td>female</td>\n",
       "      <td>24.0</td>\n",
       "      <td>3</td>\n",
       "      <td>2</td>\n",
       "      <td>19950</td>\n",
       "      <td>263.00</td>\n",
       "      <td>C23 C25 C27</td>\n",
       "      <td>S</td>\n",
       "    </tr>\n",
       "    <tr>\n",
       "      <th>792</th>\n",
       "      <td>793</td>\n",
       "      <td>0</td>\n",
       "      <td>3</td>\n",
       "      <td>Sage, Miss. Stella Anna</td>\n",
       "      <td>female</td>\n",
       "      <td>NaN</td>\n",
       "      <td>8</td>\n",
       "      <td>2</td>\n",
       "      <td>CA. 2343</td>\n",
       "      <td>69.55</td>\n",
       "      <td>NaN</td>\n",
       "      <td>S</td>\n",
       "    </tr>\n",
       "    <tr>\n",
       "      <th>846</th>\n",
       "      <td>847</td>\n",
       "      <td>0</td>\n",
       "      <td>3</td>\n",
       "      <td>Sage, Mr. Douglas Bullen</td>\n",
       "      <td>male</td>\n",
       "      <td>NaN</td>\n",
       "      <td>8</td>\n",
       "      <td>2</td>\n",
       "      <td>CA. 2343</td>\n",
       "      <td>69.55</td>\n",
       "      <td>NaN</td>\n",
       "      <td>S</td>\n",
       "    </tr>\n",
       "    <tr>\n",
       "      <th>863</th>\n",
       "      <td>864</td>\n",
       "      <td>0</td>\n",
       "      <td>3</td>\n",
       "      <td>Sage, Miss. Dorothy Edith \"Dolly\"</td>\n",
       "      <td>female</td>\n",
       "      <td>NaN</td>\n",
       "      <td>8</td>\n",
       "      <td>2</td>\n",
       "      <td>CA. 2343</td>\n",
       "      <td>69.55</td>\n",
       "      <td>NaN</td>\n",
       "      <td>S</td>\n",
       "    </tr>\n",
       "  </tbody>\n",
       "</table>\n",
       "</div>"
      ],
      "text/plain": [
       "     PassengerId  Survived  Pclass                               Name     Sex  \\\n",
       "27            28         0       1     Fortune, Mr. Charles Alexander    male   \n",
       "88            89         1       1         Fortune, Miss. Mabel Helen  female   \n",
       "159          160         0       3         Sage, Master. Thomas Henry    male   \n",
       "180          181         0       3       Sage, Miss. Constance Gladys  female   \n",
       "201          202         0       3                Sage, Mr. Frederick    male   \n",
       "324          325         0       3           Sage, Mr. George John Jr    male   \n",
       "341          342         1       1     Fortune, Miss. Alice Elizabeth  female   \n",
       "792          793         0       3            Sage, Miss. Stella Anna  female   \n",
       "846          847         0       3           Sage, Mr. Douglas Bullen    male   \n",
       "863          864         0       3  Sage, Miss. Dorothy Edith \"Dolly\"  female   \n",
       "\n",
       "      Age  SibSp  Parch    Ticket    Fare        Cabin Embarked  \n",
       "27   19.0      3      2     19950  263.00  C23 C25 C27        S  \n",
       "88   23.0      3      2     19950  263.00  C23 C25 C27        S  \n",
       "159   NaN      8      2  CA. 2343   69.55          NaN        S  \n",
       "180   NaN      8      2  CA. 2343   69.55          NaN        S  \n",
       "201   NaN      8      2  CA. 2343   69.55          NaN        S  \n",
       "324   NaN      8      2  CA. 2343   69.55          NaN        S  \n",
       "341  24.0      3      2     19950  263.00  C23 C25 C27        S  \n",
       "792   NaN      8      2  CA. 2343   69.55          NaN        S  \n",
       "846   NaN      8      2  CA. 2343   69.55          NaN        S  \n",
       "863   NaN      8      2  CA. 2343   69.55          NaN        S  "
      ]
     },
     "execution_count": 6,
     "metadata": {},
     "output_type": "execute_result"
    }
   ],
   "source": [
    "train.loc[Outliers_to_drop]"
   ]
  },
  {
   "cell_type": "code",
   "execution_count": 7,
   "id": "d53cb5ff",
   "metadata": {
    "execution": {
     "iopub.execute_input": "2021-10-04T11:26:32.695213Z",
     "iopub.status.busy": "2021-10-04T11:26:32.694607Z",
     "iopub.status.idle": "2021-10-04T11:26:32.698894Z",
     "shell.execute_reply": "2021-10-04T11:26:32.699337Z",
     "shell.execute_reply.started": "2021-10-04T10:02:15.833404Z"
    },
    "papermill": {
     "duration": 0.06015,
     "end_time": "2021-10-04T11:26:32.699506",
     "exception": false,
     "start_time": "2021-10-04T11:26:32.639356",
     "status": "completed"
    },
    "tags": []
   },
   "outputs": [],
   "source": [
    "train=train.drop(Outliers_to_drop, axis=0).reset_index(drop=True)"
   ]
  },
  {
   "cell_type": "code",
   "execution_count": 8,
   "id": "60903995",
   "metadata": {
    "execution": {
     "iopub.execute_input": "2021-10-04T11:26:32.812496Z",
     "iopub.status.busy": "2021-10-04T11:26:32.811890Z",
     "iopub.status.idle": "2021-10-04T11:26:32.814166Z",
     "shell.execute_reply": "2021-10-04T11:26:32.814580Z",
     "shell.execute_reply.started": "2021-10-04T10:02:15.841913Z"
    },
    "papermill": {
     "duration": 0.062055,
     "end_time": "2021-10-04T11:26:32.814748",
     "exception": false,
     "start_time": "2021-10-04T11:26:32.752693",
     "status": "completed"
    },
    "tags": []
   },
   "outputs": [
    {
     "name": "stdout",
     "output_type": "stream",
     "text": [
      "(881, 12)\n"
     ]
    }
   ],
   "source": [
    "print(train.shape)"
   ]
  },
  {
   "cell_type": "code",
   "execution_count": 9,
   "id": "3216a6de",
   "metadata": {
    "execution": {
     "iopub.execute_input": "2021-10-04T11:26:32.925422Z",
     "iopub.status.busy": "2021-10-04T11:26:32.924816Z",
     "iopub.status.idle": "2021-10-04T11:26:32.937618Z",
     "shell.execute_reply": "2021-10-04T11:26:32.936887Z",
     "shell.execute_reply.started": "2021-10-04T10:02:15.853617Z"
    },
    "papermill": {
     "duration": 0.069221,
     "end_time": "2021-10-04T11:26:32.937816",
     "exception": false,
     "start_time": "2021-10-04T11:26:32.868595",
     "status": "completed"
    },
    "tags": []
   },
   "outputs": [
    {
     "name": "stdout",
     "output_type": "stream",
     "text": [
      "(418, 11) (1299, 12)\n"
     ]
    }
   ],
   "source": [
    "train_len=len(train)\n",
    "dataset=pd.concat(objs=[train,test], axis=0).reset_index(drop=True)\n",
    "print(test.shape, dataset.shape)"
   ]
  },
  {
   "cell_type": "code",
   "execution_count": 10,
   "id": "3c0d2987",
   "metadata": {
    "execution": {
     "iopub.execute_input": "2021-10-04T11:26:33.049940Z",
     "iopub.status.busy": "2021-10-04T11:26:33.049044Z",
     "iopub.status.idle": "2021-10-04T11:26:33.058488Z",
     "shell.execute_reply": "2021-10-04T11:26:33.058921Z",
     "shell.execute_reply.started": "2021-10-04T10:02:15.874004Z"
    },
    "papermill": {
     "duration": 0.066723,
     "end_time": "2021-10-04T11:26:33.059100",
     "exception": false,
     "start_time": "2021-10-04T11:26:32.992377",
     "status": "completed"
    },
    "tags": []
   },
   "outputs": [
    {
     "data": {
      "text/plain": [
       "PassengerId       0\n",
       "Survived        418\n",
       "Pclass            0\n",
       "Name              0\n",
       "Sex               0\n",
       "Age             256\n",
       "SibSp             0\n",
       "Parch             0\n",
       "Ticket            0\n",
       "Fare              1\n",
       "Cabin          1007\n",
       "Embarked          2\n",
       "dtype: int64"
      ]
     },
     "execution_count": 10,
     "metadata": {},
     "output_type": "execute_result"
    }
   ],
   "source": [
    "dataset= dataset.fillna(np.nan)\n",
    "dataset.isnull().sum()"
   ]
  },
  {
   "cell_type": "code",
   "execution_count": 11,
   "id": "f124b1ec",
   "metadata": {
    "execution": {
     "iopub.execute_input": "2021-10-04T11:26:33.184382Z",
     "iopub.status.busy": "2021-10-04T11:26:33.174033Z",
     "iopub.status.idle": "2021-10-04T11:26:33.187681Z",
     "shell.execute_reply": "2021-10-04T11:26:33.186838Z",
     "shell.execute_reply.started": "2021-10-04T10:02:15.890043Z"
    },
    "papermill": {
     "duration": 0.075377,
     "end_time": "2021-10-04T11:26:33.187865",
     "exception": false,
     "start_time": "2021-10-04T11:26:33.112488",
     "status": "completed"
    },
    "tags": []
   },
   "outputs": [
    {
     "name": "stdout",
     "output_type": "stream",
     "text": [
      "<class 'pandas.core.frame.DataFrame'>\n",
      "RangeIndex: 881 entries, 0 to 880\n",
      "Data columns (total 12 columns):\n",
      " #   Column       Non-Null Count  Dtype  \n",
      "---  ------       --------------  -----  \n",
      " 0   PassengerId  881 non-null    int64  \n",
      " 1   Survived     881 non-null    int64  \n",
      " 2   Pclass       881 non-null    int64  \n",
      " 3   Name         881 non-null    object \n",
      " 4   Sex          881 non-null    object \n",
      " 5   Age          711 non-null    float64\n",
      " 6   SibSp        881 non-null    int64  \n",
      " 7   Parch        881 non-null    int64  \n",
      " 8   Ticket       881 non-null    object \n",
      " 9   Fare         881 non-null    float64\n",
      " 10  Cabin        201 non-null    object \n",
      " 11  Embarked     879 non-null    object \n",
      "dtypes: float64(2), int64(5), object(5)\n",
      "memory usage: 82.7+ KB\n"
     ]
    }
   ],
   "source": [
    "train.info()"
   ]
  },
  {
   "cell_type": "code",
   "execution_count": 12,
   "id": "8e08c5a5",
   "metadata": {
    "execution": {
     "iopub.execute_input": "2021-10-04T11:26:33.303882Z",
     "iopub.status.busy": "2021-10-04T11:26:33.303277Z",
     "iopub.status.idle": "2021-10-04T11:26:33.308014Z",
     "shell.execute_reply": "2021-10-04T11:26:33.308410Z",
     "shell.execute_reply.started": "2021-10-04T10:02:15.911934Z"
    },
    "papermill": {
     "duration": 0.064858,
     "end_time": "2021-10-04T11:26:33.308575",
     "exception": false,
     "start_time": "2021-10-04T11:26:33.243717",
     "status": "completed"
    },
    "tags": []
   },
   "outputs": [
    {
     "data": {
      "text/plain": [
       "PassengerId      0\n",
       "Survived         0\n",
       "Pclass           0\n",
       "Name             0\n",
       "Sex              0\n",
       "Age            170\n",
       "SibSp            0\n",
       "Parch            0\n",
       "Ticket           0\n",
       "Fare             0\n",
       "Cabin          680\n",
       "Embarked         2\n",
       "dtype: int64"
      ]
     },
     "execution_count": 12,
     "metadata": {},
     "output_type": "execute_result"
    }
   ],
   "source": [
    "train.isnull().sum()"
   ]
  },
  {
   "cell_type": "code",
   "execution_count": 13,
   "id": "b6346509",
   "metadata": {
    "execution": {
     "iopub.execute_input": "2021-10-04T11:26:33.419845Z",
     "iopub.status.busy": "2021-10-04T11:26:33.419268Z",
     "iopub.status.idle": "2021-10-04T11:26:33.424862Z",
     "shell.execute_reply": "2021-10-04T11:26:33.425347Z",
     "shell.execute_reply.started": "2021-10-04T10:02:15.927122Z"
    },
    "papermill": {
     "duration": 0.06323,
     "end_time": "2021-10-04T11:26:33.425508",
     "exception": false,
     "start_time": "2021-10-04T11:26:33.362278",
     "status": "completed"
    },
    "tags": []
   },
   "outputs": [
    {
     "data": {
      "text/plain": [
       "PassengerId      int64\n",
       "Survived         int64\n",
       "Pclass           int64\n",
       "Name            object\n",
       "Sex             object\n",
       "Age            float64\n",
       "SibSp            int64\n",
       "Parch            int64\n",
       "Ticket          object\n",
       "Fare           float64\n",
       "Cabin           object\n",
       "Embarked        object\n",
       "dtype: object"
      ]
     },
     "execution_count": 13,
     "metadata": {},
     "output_type": "execute_result"
    }
   ],
   "source": [
    "train.dtypes"
   ]
  },
  {
   "cell_type": "code",
   "execution_count": 14,
   "id": "ced3b079",
   "metadata": {
    "execution": {
     "iopub.execute_input": "2021-10-04T11:26:33.545485Z",
     "iopub.status.busy": "2021-10-04T11:26:33.542513Z",
     "iopub.status.idle": "2021-10-04T11:26:33.564165Z",
     "shell.execute_reply": "2021-10-04T11:26:33.564560Z",
     "shell.execute_reply.started": "2021-10-04T10:02:15.942293Z"
    },
    "papermill": {
     "duration": 0.085308,
     "end_time": "2021-10-04T11:26:33.564723",
     "exception": false,
     "start_time": "2021-10-04T11:26:33.479415",
     "status": "completed"
    },
    "tags": []
   },
   "outputs": [
    {
     "data": {
      "text/html": [
       "<div>\n",
       "<style scoped>\n",
       "    .dataframe tbody tr th:only-of-type {\n",
       "        vertical-align: middle;\n",
       "    }\n",
       "\n",
       "    .dataframe tbody tr th {\n",
       "        vertical-align: top;\n",
       "    }\n",
       "\n",
       "    .dataframe thead th {\n",
       "        text-align: right;\n",
       "    }\n",
       "</style>\n",
       "<table border=\"1\" class=\"dataframe\">\n",
       "  <thead>\n",
       "    <tr style=\"text-align: right;\">\n",
       "      <th></th>\n",
       "      <th>PassengerId</th>\n",
       "      <th>Survived</th>\n",
       "      <th>Pclass</th>\n",
       "      <th>Age</th>\n",
       "      <th>SibSp</th>\n",
       "      <th>Parch</th>\n",
       "      <th>Fare</th>\n",
       "    </tr>\n",
       "  </thead>\n",
       "  <tbody>\n",
       "    <tr>\n",
       "      <th>count</th>\n",
       "      <td>881.000000</td>\n",
       "      <td>881.000000</td>\n",
       "      <td>881.000000</td>\n",
       "      <td>711.000000</td>\n",
       "      <td>881.000000</td>\n",
       "      <td>881.000000</td>\n",
       "      <td>881.000000</td>\n",
       "    </tr>\n",
       "    <tr>\n",
       "      <th>mean</th>\n",
       "      <td>446.713961</td>\n",
       "      <td>0.385925</td>\n",
       "      <td>2.307605</td>\n",
       "      <td>29.731603</td>\n",
       "      <td>0.455165</td>\n",
       "      <td>0.363224</td>\n",
       "      <td>31.121566</td>\n",
       "    </tr>\n",
       "    <tr>\n",
       "      <th>std</th>\n",
       "      <td>256.617021</td>\n",
       "      <td>0.487090</td>\n",
       "      <td>0.835055</td>\n",
       "      <td>14.547835</td>\n",
       "      <td>0.871571</td>\n",
       "      <td>0.791839</td>\n",
       "      <td>47.996249</td>\n",
       "    </tr>\n",
       "    <tr>\n",
       "      <th>min</th>\n",
       "      <td>1.000000</td>\n",
       "      <td>0.000000</td>\n",
       "      <td>1.000000</td>\n",
       "      <td>0.420000</td>\n",
       "      <td>0.000000</td>\n",
       "      <td>0.000000</td>\n",
       "      <td>0.000000</td>\n",
       "    </tr>\n",
       "    <tr>\n",
       "      <th>25%</th>\n",
       "      <td>226.000000</td>\n",
       "      <td>0.000000</td>\n",
       "      <td>2.000000</td>\n",
       "      <td>20.250000</td>\n",
       "      <td>0.000000</td>\n",
       "      <td>0.000000</td>\n",
       "      <td>7.895800</td>\n",
       "    </tr>\n",
       "    <tr>\n",
       "      <th>50%</th>\n",
       "      <td>448.000000</td>\n",
       "      <td>0.000000</td>\n",
       "      <td>3.000000</td>\n",
       "      <td>28.000000</td>\n",
       "      <td>0.000000</td>\n",
       "      <td>0.000000</td>\n",
       "      <td>14.454200</td>\n",
       "    </tr>\n",
       "    <tr>\n",
       "      <th>75%</th>\n",
       "      <td>668.000000</td>\n",
       "      <td>1.000000</td>\n",
       "      <td>3.000000</td>\n",
       "      <td>38.000000</td>\n",
       "      <td>1.000000</td>\n",
       "      <td>0.000000</td>\n",
       "      <td>30.500000</td>\n",
       "    </tr>\n",
       "    <tr>\n",
       "      <th>max</th>\n",
       "      <td>891.000000</td>\n",
       "      <td>1.000000</td>\n",
       "      <td>3.000000</td>\n",
       "      <td>80.000000</td>\n",
       "      <td>5.000000</td>\n",
       "      <td>6.000000</td>\n",
       "      <td>512.329200</td>\n",
       "    </tr>\n",
       "  </tbody>\n",
       "</table>\n",
       "</div>"
      ],
      "text/plain": [
       "       PassengerId    Survived      Pclass         Age       SibSp  \\\n",
       "count   881.000000  881.000000  881.000000  711.000000  881.000000   \n",
       "mean    446.713961    0.385925    2.307605   29.731603    0.455165   \n",
       "std     256.617021    0.487090    0.835055   14.547835    0.871571   \n",
       "min       1.000000    0.000000    1.000000    0.420000    0.000000   \n",
       "25%     226.000000    0.000000    2.000000   20.250000    0.000000   \n",
       "50%     448.000000    0.000000    3.000000   28.000000    0.000000   \n",
       "75%     668.000000    1.000000    3.000000   38.000000    1.000000   \n",
       "max     891.000000    1.000000    3.000000   80.000000    5.000000   \n",
       "\n",
       "            Parch        Fare  \n",
       "count  881.000000  881.000000  \n",
       "mean     0.363224   31.121566  \n",
       "std      0.791839   47.996249  \n",
       "min      0.000000    0.000000  \n",
       "25%      0.000000    7.895800  \n",
       "50%      0.000000   14.454200  \n",
       "75%      0.000000   30.500000  \n",
       "max      6.000000  512.329200  "
      ]
     },
     "execution_count": 14,
     "metadata": {},
     "output_type": "execute_result"
    }
   ],
   "source": [
    "train.describe()"
   ]
  },
  {
   "cell_type": "markdown",
   "id": "2a28db1c",
   "metadata": {
    "papermill": {
     "duration": 0.054446,
     "end_time": "2021-10-04T11:26:33.674211",
     "exception": false,
     "start_time": "2021-10-04T11:26:33.619765",
     "status": "completed"
    },
    "tags": []
   },
   "source": [
    "# Feature Analysis"
   ]
  },
  {
   "cell_type": "code",
   "execution_count": 15,
   "id": "00ebb0dc",
   "metadata": {
    "execution": {
     "iopub.execute_input": "2021-10-04T11:26:33.790068Z",
     "iopub.status.busy": "2021-10-04T11:26:33.786724Z",
     "iopub.status.idle": "2021-10-04T11:26:34.181087Z",
     "shell.execute_reply": "2021-10-04T11:26:34.181596Z",
     "shell.execute_reply.started": "2021-10-04T10:02:15.975471Z"
    },
    "papermill": {
     "duration": 0.452964,
     "end_time": "2021-10-04T11:26:34.181788",
     "exception": false,
     "start_time": "2021-10-04T11:26:33.728824",
     "status": "completed"
    },
    "tags": []
   },
   "outputs": [
    {
     "data": {
      "image/png": "[encoded data removed]",
      "text/plain": [
       "<Figure size 432x288 with 2 Axes>"
      ]
     },
     "metadata": {},
     "output_type": "display_data"
    }
   ],
   "source": [
    "g=sns.heatmap(train[[\"Survived\", \"SibSp\", \"Parch\", \"Age\", \"Fare\"]].corr(), annot=True, fmt=\".2f\", cmap=\"coolwarm\")"
   ]
  },
  {
   "cell_type": "code",
   "execution_count": 16,
   "id": "18646f96",
   "metadata": {
    "execution": {
     "iopub.execute_input": "2021-10-04T11:26:34.298606Z",
     "iopub.status.busy": "2021-10-04T11:26:34.298030Z",
     "iopub.status.idle": "2021-10-04T11:26:34.842798Z",
     "shell.execute_reply": "2021-10-04T11:26:34.842038Z",
     "shell.execute_reply.started": "2021-10-04T10:02:16.349347Z"
    },
    "papermill": {
     "duration": 0.605411,
     "end_time": "2021-10-04T11:26:34.842988",
     "exception": false,
     "start_time": "2021-10-04T11:26:34.237577",
     "status": "completed"
    },
    "tags": []
   },
   "outputs": [
    {
     "name": "stderr",
     "output_type": "stream",
     "text": [
      "/opt/conda/lib/python3.7/site-packages/seaborn/categorical.py:3717: UserWarning: The `factorplot` function has been renamed to `catplot`. The original name will be removed in a future release. Please update your code. Note that the default `kind` in `factorplot` (`'point'`) has changed `'strip'` in `catplot`.\n",
      "  warnings.warn(msg)\n",
      "/opt/conda/lib/python3.7/site-packages/seaborn/categorical.py:3723: UserWarning: The `size` parameter has been renamed to `height`; please update your code.\n",
      "  warnings.warn(msg, UserWarning)\n"
     ]
    },
    {
     "data": {
      "image/png": "[encoded data removed]",
      "text/plain": [
       "<Figure size 432x432 with 1 Axes>"
      ]
     },
     "metadata": {},
     "output_type": "display_data"
    }
   ],
   "source": [
    "g=sns.factorplot(x=\"SibSp\", y=\"Survived\", data=train, kind=\"bar\", size=6, palette=\"muted\")\n",
    "g.despine(left=True)\n",
    "g=g.set_ylabels(\"survival probablility\")"
   ]
  },
  {
   "cell_type": "code",
   "execution_count": 17,
   "id": "86a3459e",
   "metadata": {
    "execution": {
     "iopub.execute_input": "2021-10-04T11:26:34.955620Z",
     "iopub.status.busy": "2021-10-04T11:26:34.955050Z",
     "iopub.status.idle": "2021-10-04T11:26:35.367323Z",
     "shell.execute_reply": "2021-10-04T11:26:35.366714Z",
     "shell.execute_reply.started": "2021-10-04T10:02:16.979652Z"
    },
    "papermill": {
     "duration": 0.47146,
     "end_time": "2021-10-04T11:26:35.367463",
     "exception": false,
     "start_time": "2021-10-04T11:26:34.896003",
     "status": "completed"
    },
    "tags": []
   },
   "outputs": [
    {
     "name": "stderr",
     "output_type": "stream",
     "text": [
      "/opt/conda/lib/python3.7/site-packages/seaborn/categorical.py:3717: UserWarning: The `factorplot` function has been renamed to `catplot`. The original name will be removed in a future release. Please update your code. Note that the default `kind` in `factorplot` (`'point'`) has changed `'strip'` in `catplot`.\n",
      "  warnings.warn(msg)\n",
      "/opt/conda/lib/python3.7/site-packages/seaborn/categorical.py:3723: UserWarning: The `size` parameter has been renamed to `height`; please update your code.\n",
      "  warnings.warn(msg, UserWarning)\n"
     ]
    },
    {
     "data": {
      "image/png": "[encoded data removed]",
      "text/plain": [
       "<Figure size 432x432 with 1 Axes>"
      ]
     },
     "metadata": {},
     "output_type": "display_data"
    }
   ],
   "source": [
    "g  = sns.factorplot(x=\"Parch\",y=\"Survived\",data=train,kind=\"bar\", size = 6 , \n",
    "palette = \"muted\")\n",
    "g.despine(left=True)\n",
    "g = g.set_ylabels(\"survival probability\")"
   ]
  },
  {
   "cell_type": "code",
   "execution_count": 18,
   "id": "153f4085",
   "metadata": {
    "execution": {
     "iopub.execute_input": "2021-10-04T11:26:35.519707Z",
     "iopub.status.busy": "2021-10-04T11:26:35.519012Z",
     "iopub.status.idle": "2021-10-04T11:26:36.163124Z",
     "shell.execute_reply": "2021-10-04T11:26:36.163796Z",
     "shell.execute_reply.started": "2021-10-04T10:02:17.494997Z"
    },
    "papermill": {
     "duration": 0.737928,
     "end_time": "2021-10-04T11:26:36.164034",
     "exception": false,
     "start_time": "2021-10-04T11:26:35.426106",
     "status": "completed"
    },
    "tags": []
   },
   "outputs": [
    {
     "name": "stderr",
     "output_type": "stream",
     "text": [
      "/opt/conda/lib/python3.7/site-packages/seaborn/distributions.py:2619: FutureWarning: `distplot` is a deprecated function and will be removed in a future version. Please adapt your code to use either `displot` (a figure-level function with similar flexibility) or `histplot` (an axes-level function for histograms).\n",
      "  warnings.warn(msg, FutureWarning)\n",
      "/opt/conda/lib/python3.7/site-packages/seaborn/distributions.py:2619: FutureWarning: `distplot` is a deprecated function and will be removed in a future version. Please adapt your code to use either `displot` (a figure-level function with similar flexibility) or `histplot` (an axes-level function for histograms).\n",
      "  warnings.warn(msg, FutureWarning)\n"
     ]
    },
    {
     "data": {
      "image/png": "[encoded data removed]",
      "text/plain": [
       "<Figure size 432x216 with 2 Axes>"
      ]
     },
     "metadata": {},
     "output_type": "display_data"
    }
   ],
   "source": [
    "g=sns.FacetGrid(train, col=\"Survived\")\n",
    "g=g.map(sns.distplot, \"Age\")"
   ]
  },
  {
   "cell_type": "code",
   "execution_count": 19,
   "id": "70853278",
   "metadata": {
    "execution": {
     "iopub.execute_input": "2021-10-04T11:26:36.315785Z",
     "iopub.status.busy": "2021-10-04T11:26:36.315165Z",
     "iopub.status.idle": "2021-10-04T11:26:36.534252Z",
     "shell.execute_reply": "2021-10-04T11:26:36.533783Z",
     "shell.execute_reply.started": "2021-10-04T10:02:18.159279Z"
    },
    "papermill": {
     "duration": 0.305218,
     "end_time": "2021-10-04T11:26:36.534389",
     "exception": false,
     "start_time": "2021-10-04T11:26:36.229171",
     "status": "completed"
    },
    "tags": []
   },
   "outputs": [
    {
     "data": {
      "image/png": "[encoded data removed]",
      "text/plain": [
       "<Figure size 432x288 with 1 Axes>"
      ]
     },
     "metadata": {},
     "output_type": "display_data"
    }
   ],
   "source": [
    "g=sns.kdeplot(train[\"Age\"][(train[\"Survived\"]==0) & (train[\"Age\"].notnull())],\n",
    "             color=\"Red\", shade=True)\n",
    "g=sns.kdeplot(train[\"Age\"][(train[\"Survived\"] ==1) & (train[\"Age\"].notnull())],\n",
    "             ax=g, color=\"Blue\", shade=True)\n",
    "\n",
    "g.set_xlabel(\"Age\")\n",
    "g.set_ylabel(\"Frequency\")\n",
    "g=g.legend([\"Not Survived\", \"Survived\"])"
   ]
  },
  {
   "cell_type": "code",
   "execution_count": 20,
   "id": "02895f69",
   "metadata": {
    "execution": {
     "iopub.execute_input": "2021-10-04T11:26:36.656784Z",
     "iopub.status.busy": "2021-10-04T11:26:36.656194Z",
     "iopub.status.idle": "2021-10-04T11:26:36.661414Z",
     "shell.execute_reply": "2021-10-04T11:26:36.661894Z",
     "shell.execute_reply.started": "2021-10-04T10:02:18.452448Z"
    },
    "papermill": {
     "duration": 0.068113,
     "end_time": "2021-10-04T11:26:36.662090",
     "exception": false,
     "start_time": "2021-10-04T11:26:36.593977",
     "status": "completed"
    },
    "tags": []
   },
   "outputs": [
    {
     "data": {
      "text/plain": [
       "1"
      ]
     },
     "execution_count": 20,
     "metadata": {},
     "output_type": "execute_result"
    }
   ],
   "source": [
    "dataset[\"Fare\"].isnull().sum()"
   ]
  },
  {
   "cell_type": "code",
   "execution_count": 21,
   "id": "61fb6d0a",
   "metadata": {
    "execution": {
     "iopub.execute_input": "2021-10-04T11:26:36.785766Z",
     "iopub.status.busy": "2021-10-04T11:26:36.785171Z",
     "iopub.status.idle": "2021-10-04T11:26:36.789313Z",
     "shell.execute_reply": "2021-10-04T11:26:36.789743Z",
     "shell.execute_reply.started": "2021-10-04T10:02:18.462632Z"
    },
    "papermill": {
     "duration": 0.067855,
     "end_time": "2021-10-04T11:26:36.789904",
     "exception": false,
     "start_time": "2021-10-04T11:26:36.722049",
     "status": "completed"
    },
    "tags": []
   },
   "outputs": [],
   "source": [
    "dataset[\"Fare\"] = dataset[\"Fare\"].fillna(dataset[\"Fare\"].median())"
   ]
  },
  {
   "cell_type": "code",
   "execution_count": 22,
   "id": "0f529eab",
   "metadata": {
    "execution": {
     "iopub.execute_input": "2021-10-04T11:26:36.912433Z",
     "iopub.status.busy": "2021-10-04T11:26:36.911785Z",
     "iopub.status.idle": "2021-10-04T11:26:37.266022Z",
     "shell.execute_reply": "2021-10-04T11:26:37.265101Z",
     "shell.execute_reply.started": "2021-10-04T10:02:18.474227Z"
    },
    "papermill": {
     "duration": 0.416724,
     "end_time": "2021-10-04T11:26:37.266177",
     "exception": false,
     "start_time": "2021-10-04T11:26:36.849453",
     "status": "completed"
    },
    "tags": []
   },
   "outputs": [
    {
     "name": "stderr",
     "output_type": "stream",
     "text": [
      "/opt/conda/lib/python3.7/site-packages/seaborn/distributions.py:2619: FutureWarning: `distplot` is a deprecated function and will be removed in a future version. Please adapt your code to use either `displot` (a figure-level function with similar flexibility) or `histplot` (an axes-level function for histograms).\n",
      "  warnings.warn(msg, FutureWarning)\n"
     ]
    },
    {
     "data": {
      "image/png": "[encoded data removed]",
      "text/plain": [
       "<Figure size 432x288 with 1 Axes>"
      ]
     },
     "metadata": {},
     "output_type": "display_data"
    }
   ],
   "source": [
    "g=sns.distplot(dataset[\"Fare\"], color='m', label=\"Skewness : %.2f\"%(dataset[\"Fare\"].skew()))\n",
    "\n",
    "g=g.legend(loc=\"best\")"
   ]
  },
  {
   "cell_type": "code",
   "execution_count": 23,
   "id": "f992b3bc",
   "metadata": {
    "execution": {
     "iopub.execute_input": "2021-10-04T11:26:37.396921Z",
     "iopub.status.busy": "2021-10-04T11:26:37.396213Z",
     "iopub.status.idle": "2021-10-04T11:26:37.399160Z",
     "shell.execute_reply": "2021-10-04T11:26:37.398674Z",
     "shell.execute_reply.started": "2021-10-04T10:02:18.910291Z"
    },
    "papermill": {
     "duration": 0.071592,
     "end_time": "2021-10-04T11:26:37.399307",
     "exception": false,
     "start_time": "2021-10-04T11:26:37.327715",
     "status": "completed"
    },
    "tags": []
   },
   "outputs": [],
   "source": [
    "dataset[\"Fare\"] = dataset[\"Fare\"].map(lambda i:np.log(i) if i>0 else 0)\n",
    "#로그 대신 standardization은 어떤가 "
   ]
  },
  {
   "cell_type": "code",
   "execution_count": 24,
   "id": "1e970a1a",
   "metadata": {
    "execution": {
     "iopub.execute_input": "2021-10-04T11:26:37.527097Z",
     "iopub.status.busy": "2021-10-04T11:26:37.526452Z",
     "iopub.status.idle": "2021-10-04T11:26:37.830247Z",
     "shell.execute_reply": "2021-10-04T11:26:37.830661Z",
     "shell.execute_reply.started": "2021-10-04T10:02:18.921733Z"
    },
    "papermill": {
     "duration": 0.370078,
     "end_time": "2021-10-04T11:26:37.830833",
     "exception": false,
     "start_time": "2021-10-04T11:26:37.460755",
     "status": "completed"
    },
    "tags": []
   },
   "outputs": [
    {
     "name": "stderr",
     "output_type": "stream",
     "text": [
      "/opt/conda/lib/python3.7/site-packages/seaborn/distributions.py:2619: FutureWarning: `distplot` is a deprecated function and will be removed in a future version. Please adapt your code to use either `displot` (a figure-level function with similar flexibility) or `histplot` (an axes-level function for histograms).\n",
      "  warnings.warn(msg, FutureWarning)\n"
     ]
    },
    {
     "data": {
      "image/png": "[encoded data removed]",
      "text/plain": [
       "<Figure size 432x288 with 1 Axes>"
      ]
     },
     "metadata": {},
     "output_type": "display_data"
    }
   ],
   "source": [
    "g= sns.distplot(dataset[\"Fare\"], color=\"b\", label=\"Skewness : %.2f\"%(dataset[\"Fare\"].skew()))\n",
    "g=g.legend(loc=\"best\")"
   ]
  },
  {
   "cell_type": "code",
   "execution_count": 25,
   "id": "17c9e90a",
   "metadata": {
    "execution": {
     "iopub.execute_input": "2021-10-04T11:26:37.959558Z",
     "iopub.status.busy": "2021-10-04T11:26:37.958934Z",
     "iopub.status.idle": "2021-10-04T11:26:38.151247Z",
     "shell.execute_reply": "2021-10-04T11:26:38.151973Z",
     "shell.execute_reply.started": "2021-10-04T10:02:19.338637Z"
    },
    "papermill": {
     "duration": 0.258706,
     "end_time": "2021-10-04T11:26:38.152216",
     "exception": false,
     "start_time": "2021-10-04T11:26:37.893510",
     "status": "completed"
    },
    "tags": []
   },
   "outputs": [
    {
     "data": {
      "image/png": "[encoded data removed]",
      "text/plain": [
       "<Figure size 432x288 with 1 Axes>"
      ]
     },
     "metadata": {},
     "output_type": "display_data"
    }
   ],
   "source": [
    "g=sns.barplot(x=\"Sex\", y=\"Survived\", data=train)\n",
    "g=g.set_ylabel(\"Survival Probability\")"
   ]
  },
  {
   "cell_type": "code",
   "execution_count": 26,
   "id": "cb120fe3",
   "metadata": {
    "execution": {
     "iopub.execute_input": "2021-10-04T11:26:38.292984Z",
     "iopub.status.busy": "2021-10-04T11:26:38.292323Z",
     "iopub.status.idle": "2021-10-04T11:26:38.303471Z",
     "shell.execute_reply": "2021-10-04T11:26:38.303016Z",
     "shell.execute_reply.started": "2021-10-04T10:02:19.581567Z"
    },
    "papermill": {
     "duration": 0.084908,
     "end_time": "2021-10-04T11:26:38.303608",
     "exception": false,
     "start_time": "2021-10-04T11:26:38.218700",
     "status": "completed"
    },
    "tags": []
   },
   "outputs": [
    {
     "data": {
      "text/html": [
       "<div>\n",
       "<style scoped>\n",
       "    .dataframe tbody tr th:only-of-type {\n",
       "        vertical-align: middle;\n",
       "    }\n",
       "\n",
       "    .dataframe tbody tr th {\n",
       "        vertical-align: top;\n",
       "    }\n",
       "\n",
       "    .dataframe thead th {\n",
       "        text-align: right;\n",
       "    }\n",
       "</style>\n",
       "<table border=\"1\" class=\"dataframe\">\n",
       "  <thead>\n",
       "    <tr style=\"text-align: right;\">\n",
       "      <th></th>\n",
       "      <th>Survived</th>\n",
       "    </tr>\n",
       "    <tr>\n",
       "      <th>Sex</th>\n",
       "      <th></th>\n",
       "    </tr>\n",
       "  </thead>\n",
       "  <tbody>\n",
       "    <tr>\n",
       "      <th>female</th>\n",
       "      <td>0.747573</td>\n",
       "    </tr>\n",
       "    <tr>\n",
       "      <th>male</th>\n",
       "      <td>0.190559</td>\n",
       "    </tr>\n",
       "  </tbody>\n",
       "</table>\n",
       "</div>"
      ],
      "text/plain": [
       "        Survived\n",
       "Sex             \n",
       "female  0.747573\n",
       "male    0.190559"
      ]
     },
     "execution_count": 26,
     "metadata": {},
     "output_type": "execute_result"
    }
   ],
   "source": [
    "train[[\"Sex\",\"Survived\"]].groupby('Sex').mean()"
   ]
  },
  {
   "cell_type": "code",
   "execution_count": 27,
   "id": "6f73bb00",
   "metadata": {
    "execution": {
     "iopub.execute_input": "2021-10-04T11:26:38.439007Z",
     "iopub.status.busy": "2021-10-04T11:26:38.438404Z",
     "iopub.status.idle": "2021-10-04T11:26:38.820511Z",
     "shell.execute_reply": "2021-10-04T11:26:38.820935Z",
     "shell.execute_reply.started": "2021-10-04T10:02:19.600974Z"
    },
    "papermill": {
     "duration": 0.453758,
     "end_time": "2021-10-04T11:26:38.821136",
     "exception": false,
     "start_time": "2021-10-04T11:26:38.367378",
     "status": "completed"
    },
    "tags": []
   },
   "outputs": [
    {
     "name": "stderr",
     "output_type": "stream",
     "text": [
      "/opt/conda/lib/python3.7/site-packages/seaborn/categorical.py:3717: UserWarning: The `factorplot` function has been renamed to `catplot`. The original name will be removed in a future release. Please update your code. Note that the default `kind` in `factorplot` (`'point'`) has changed `'strip'` in `catplot`.\n",
      "  warnings.warn(msg)\n",
      "/opt/conda/lib/python3.7/site-packages/seaborn/categorical.py:3723: UserWarning: The `size` parameter has been renamed to `height`; please update your code.\n",
      "  warnings.warn(msg, UserWarning)\n"
     ]
    },
    {
     "data": {
      "image/png": "[encoded data removed]",
      "text/plain": [
       "<Figure size 432x432 with 1 Axes>"
      ]
     },
     "metadata": {},
     "output_type": "display_data"
    }
   ],
   "source": [
    "g=sns.factorplot(x=\"Pclass\", y=\"Survived\", data=train, kind=\"bar\", size=6, palette=\"muted\")\n",
    "g.despine(left=True)\n",
    "g=g.set_ylabels(\"survival probability\")"
   ]
  },
  {
   "cell_type": "code",
   "execution_count": 28,
   "id": "635f64bb",
   "metadata": {
    "execution": {
     "iopub.execute_input": "2021-10-04T11:26:38.951780Z",
     "iopub.status.busy": "2021-10-04T11:26:38.951154Z",
     "iopub.status.idle": "2021-10-04T11:26:39.474177Z",
     "shell.execute_reply": "2021-10-04T11:26:39.474658Z",
     "shell.execute_reply.started": "2021-10-04T10:02:20.059985Z"
    },
    "papermill": {
     "duration": 0.589899,
     "end_time": "2021-10-04T11:26:39.474829",
     "exception": false,
     "start_time": "2021-10-04T11:26:38.884930",
     "status": "completed"
    },
    "tags": []
   },
   "outputs": [
    {
     "name": "stderr",
     "output_type": "stream",
     "text": [
      "/opt/conda/lib/python3.7/site-packages/seaborn/categorical.py:3717: UserWarning: The `factorplot` function has been renamed to `catplot`. The original name will be removed in a future release. Please update your code. Note that the default `kind` in `factorplot` (`'point'`) has changed `'strip'` in `catplot`.\n",
      "  warnings.warn(msg)\n",
      "/opt/conda/lib/python3.7/site-packages/seaborn/categorical.py:3723: UserWarning: The `size` parameter has been renamed to `height`; please update your code.\n",
      "  warnings.warn(msg, UserWarning)\n"
     ]
    },
    {
     "data": {
      "image/png": "[encoded data removed]",
      "text/plain": [
       "<Figure size 509.975x432 with 1 Axes>"
      ]
     },
     "metadata": {},
     "output_type": "display_data"
    }
   ],
   "source": [
    "g=sns.factorplot(x=\"Pclass\", y=\"Survived\", hue=\"Sex\", data=train, size=6, kind=\"bar\", palette=\"muted\")\n",
    "g.despine(left=True)\n",
    "g=g.set_ylabels(\"survival probability\")"
   ]
  },
  {
   "cell_type": "code",
   "execution_count": 29,
   "id": "4bdd23b8",
   "metadata": {
    "execution": {
     "iopub.execute_input": "2021-10-04T11:26:39.609902Z",
     "iopub.status.busy": "2021-10-04T11:26:39.609304Z",
     "iopub.status.idle": "2021-10-04T11:26:39.612219Z",
     "shell.execute_reply": "2021-10-04T11:26:39.612670Z",
     "shell.execute_reply.started": "2021-10-04T10:02:20.690644Z"
    },
    "papermill": {
     "duration": 0.07359,
     "end_time": "2021-10-04T11:26:39.612832",
     "exception": false,
     "start_time": "2021-10-04T11:26:39.539242",
     "status": "completed"
    },
    "tags": []
   },
   "outputs": [
    {
     "data": {
      "text/plain": [
       "2"
      ]
     },
     "execution_count": 29,
     "metadata": {},
     "output_type": "execute_result"
    }
   ],
   "source": [
    "dataset[\"Embarked\"].isnull().sum()"
   ]
  },
  {
   "cell_type": "code",
   "execution_count": 30,
   "id": "7a483058",
   "metadata": {
    "execution": {
     "iopub.execute_input": "2021-10-04T11:26:39.745837Z",
     "iopub.status.busy": "2021-10-04T11:26:39.745231Z",
     "iopub.status.idle": "2021-10-04T11:26:39.749804Z",
     "shell.execute_reply": "2021-10-04T11:26:39.750280Z",
     "shell.execute_reply.started": "2021-10-04T10:02:20.699181Z"
    },
    "papermill": {
     "duration": 0.072703,
     "end_time": "2021-10-04T11:26:39.750463",
     "exception": false,
     "start_time": "2021-10-04T11:26:39.677760",
     "status": "completed"
    },
    "tags": []
   },
   "outputs": [],
   "source": [
    "dataset[\"Embarked\"]=dataset[\"Embarked\"].fillna(\"S\")"
   ]
  },
  {
   "cell_type": "code",
   "execution_count": 31,
   "id": "499a684d",
   "metadata": {
    "execution": {
     "iopub.execute_input": "2021-10-04T11:26:39.909148Z",
     "iopub.status.busy": "2021-10-04T11:26:39.902846Z",
     "iopub.status.idle": "2021-10-04T11:26:40.262864Z",
     "shell.execute_reply": "2021-10-04T11:26:40.263290Z",
     "shell.execute_reply.started": "2021-10-04T10:02:20.711213Z"
    },
    "papermill": {
     "duration": 0.448262,
     "end_time": "2021-10-04T11:26:40.263457",
     "exception": false,
     "start_time": "2021-10-04T11:26:39.815195",
     "status": "completed"
    },
    "tags": []
   },
   "outputs": [
    {
     "name": "stderr",
     "output_type": "stream",
     "text": [
      "/opt/conda/lib/python3.7/site-packages/seaborn/categorical.py:3717: UserWarning: The `factorplot` function has been renamed to `catplot`. The original name will be removed in a future release. Please update your code. Note that the default `kind` in `factorplot` (`'point'`) has changed `'strip'` in `catplot`.\n",
      "  warnings.warn(msg)\n",
      "/opt/conda/lib/python3.7/site-packages/seaborn/categorical.py:3723: UserWarning: The `size` parameter has been renamed to `height`; please update your code.\n",
      "  warnings.warn(msg, UserWarning)\n"
     ]
    },
    {
     "data": {
      "image/png": "[encoded data removed]",
      "text/plain": [
       "<Figure size 432x432 with 1 Axes>"
      ]
     },
     "metadata": {},
     "output_type": "display_data"
    }
   ],
   "source": [
    "g=sns.factorplot(x=\"Embarked\", y=\"Survived\", data=train, size=6, kind=\"bar\", palette=\"muted\")\n",
    "g.despine(left=True)\n",
    "g=g.set_ylabels(\"Survival probability\")"
   ]
  },
  {
   "cell_type": "code",
   "execution_count": 32,
   "id": "fa12cd52",
   "metadata": {
    "execution": {
     "iopub.execute_input": "2021-10-04T11:26:40.400068Z",
     "iopub.status.busy": "2021-10-04T11:26:40.397162Z",
     "iopub.status.idle": "2021-10-04T11:26:41.032730Z",
     "shell.execute_reply": "2021-10-04T11:26:41.032261Z",
     "shell.execute_reply.started": "2021-10-04T10:02:21.154660Z"
    },
    "papermill": {
     "duration": 0.703593,
     "end_time": "2021-10-04T11:26:41.032878",
     "exception": false,
     "start_time": "2021-10-04T11:26:40.329285",
     "status": "completed"
    },
    "tags": []
   },
   "outputs": [
    {
     "name": "stderr",
     "output_type": "stream",
     "text": [
      "/opt/conda/lib/python3.7/site-packages/seaborn/categorical.py:3717: UserWarning: The `factorplot` function has been renamed to `catplot`. The original name will be removed in a future release. Please update your code. Note that the default `kind` in `factorplot` (`'point'`) has changed `'strip'` in `catplot`.\n",
      "  warnings.warn(msg)\n",
      "/opt/conda/lib/python3.7/site-packages/seaborn/categorical.py:3723: UserWarning: The `size` parameter has been renamed to `height`; please update your code.\n",
      "  warnings.warn(msg, UserWarning)\n",
      "/opt/conda/lib/python3.7/site-packages/seaborn/_decorators.py:43: FutureWarning: Pass the following variable as a keyword arg: x. From version 0.12, the only valid positional argument will be `data`, and passing other arguments without an explicit keyword will result in an error or misinterpretation.\n",
      "  FutureWarning\n"
     ]
    },
    {
     "data": {
      "image/png": "[encoded data removed]",
      "text/plain": [
       "<Figure size 1296x432 with 3 Axes>"
      ]
     },
     "metadata": {},
     "output_type": "display_data"
    }
   ],
   "source": [
    "g=sns.factorplot(\"Pclass\", col=\"Embarked\", data=train, size=6, kind=\"count\", palette=\"muted\")\n",
    "g.despine(left=True)\n",
    "g=g.set_ylabels(\"Count\")"
   ]
  },
  {
   "cell_type": "code",
   "execution_count": 33,
   "id": "cb42da8d",
   "metadata": {
    "execution": {
     "iopub.execute_input": "2021-10-04T11:26:41.175523Z",
     "iopub.status.busy": "2021-10-04T11:26:41.174852Z",
     "iopub.status.idle": "2021-10-04T11:26:42.690257Z",
     "shell.execute_reply": "2021-10-04T11:26:42.690679Z",
     "shell.execute_reply.started": "2021-10-04T10:02:21.934030Z"
    },
    "papermill": {
     "duration": 1.591404,
     "end_time": "2021-10-04T11:26:42.690864",
     "exception": false,
     "start_time": "2021-10-04T11:26:41.099460",
     "status": "completed"
    },
    "tags": []
   },
   "outputs": [
    {
     "name": "stderr",
     "output_type": "stream",
     "text": [
      "/opt/conda/lib/python3.7/site-packages/seaborn/categorical.py:3717: UserWarning: The `factorplot` function has been renamed to `catplot`. The original name will be removed in a future release. Please update your code. Note that the default `kind` in `factorplot` (`'point'`) has changed `'strip'` in `catplot`.\n",
      "  warnings.warn(msg)\n",
      "/opt/conda/lib/python3.7/site-packages/seaborn/categorical.py:3717: UserWarning: The `factorplot` function has been renamed to `catplot`. The original name will be removed in a future release. Please update your code. Note that the default `kind` in `factorplot` (`'point'`) has changed `'strip'` in `catplot`.\n",
      "  warnings.warn(msg)\n",
      "/opt/conda/lib/python3.7/site-packages/seaborn/categorical.py:3717: UserWarning: The `factorplot` function has been renamed to `catplot`. The original name will be removed in a future release. Please update your code. Note that the default `kind` in `factorplot` (`'point'`) has changed `'strip'` in `catplot`.\n",
      "  warnings.warn(msg)\n",
      "/opt/conda/lib/python3.7/site-packages/seaborn/categorical.py:3717: UserWarning: The `factorplot` function has been renamed to `catplot`. The original name will be removed in a future release. Please update your code. Note that the default `kind` in `factorplot` (`'point'`) has changed `'strip'` in `catplot`.\n",
      "  warnings.warn(msg)\n"
     ]
    },
    {
     "data": {
      "image/png": "[encoded data removed]",
      "text/plain": [
       "<Figure size 360x360 with 1 Axes>"
      ]
     },
     "metadata": {},
     "output_type": "display_data"
    },
    {
     "data": {
      "image/png": "[encoded data removed]",
      "text/plain": [
       "<Figure size 406.6x360 with 1 Axes>"
      ]
     },
     "metadata": {},
     "output_type": "display_data"
    },
    {
     "data": {
      "image/png": "[encoded data removed]",
      "text/plain": [
       "<Figure size 360x360 with 1 Axes>"
      ]
     },
     "metadata": {},
     "output_type": "display_data"
    },
    {
     "data": {
      "image/png": "[encoded data removed]",
      "text/plain": [
       "<Figure size 360x360 with 1 Axes>"
      ]
     },
     "metadata": {},
     "output_type": "display_data"
    }
   ],
   "source": [
    "g=sns.factorplot(y=\"Age\", x=\"Sex\", data=dataset,kind=\"box\")\n",
    "g=sns.factorplot(y=\"Age\", x=\"Sex\", hue=\"Pclass\", data=dataset, kind=\"box\")\n",
    "g=sns.factorplot(y=\"Age\", x=\"Parch\", data=dataset, kind=\"box\")\n",
    "g=sns.factorplot(y=\"Age\", x=\"SibSp\", data=dataset, kind=\"box\")"
   ]
  },
  {
   "cell_type": "code",
   "execution_count": 34,
   "id": "cea7bc98",
   "metadata": {
    "execution": {
     "iopub.execute_input": "2021-10-04T11:26:42.837977Z",
     "iopub.status.busy": "2021-10-04T11:26:42.837282Z",
     "iopub.status.idle": "2021-10-04T11:26:42.840344Z",
     "shell.execute_reply": "2021-10-04T11:26:42.839867Z",
     "shell.execute_reply.started": "2021-10-04T10:02:24.157123Z"
    },
    "papermill": {
     "duration": 0.079459,
     "end_time": "2021-10-04T11:26:42.840474",
     "exception": false,
     "start_time": "2021-10-04T11:26:42.761015",
     "status": "completed"
    },
    "tags": []
   },
   "outputs": [],
   "source": [
    "dataset[\"Sex\"] = dataset[\"Sex\"].map({\"male\": 0, \"female\":1})"
   ]
  },
  {
   "cell_type": "code",
   "execution_count": 35,
   "id": "3f81d6b3",
   "metadata": {
    "execution": {
     "iopub.execute_input": "2021-10-04T11:26:42.986686Z",
     "iopub.status.busy": "2021-10-04T11:26:42.986045Z",
     "iopub.status.idle": "2021-10-04T11:26:43.278096Z",
     "shell.execute_reply": "2021-10-04T11:26:43.277585Z",
     "shell.execute_reply.started": "2021-10-04T10:02:24.167124Z"
    },
    "papermill": {
     "duration": 0.367817,
     "end_time": "2021-10-04T11:26:43.278242",
     "exception": false,
     "start_time": "2021-10-04T11:26:42.910425",
     "status": "completed"
    },
    "tags": []
   },
   "outputs": [
    {
     "data": {
      "image/png": "[encoded data removed]",
      "text/plain": [
       "<Figure size 432x288 with 2 Axes>"
      ]
     },
     "metadata": {},
     "output_type": "display_data"
    }
   ],
   "source": [
    "g=sns.heatmap(dataset[[\"Age\",\"Sex\", \"SibSp\", \"Parch\", \"Pclass\"]].corr(), cmap=\"BrBG\", annot=True)"
   ]
  },
  {
   "cell_type": "code",
   "execution_count": 36,
   "id": "cc826655",
   "metadata": {
    "execution": {
     "iopub.execute_input": "2021-10-04T11:26:43.432024Z",
     "iopub.status.busy": "2021-10-04T11:26:43.431390Z",
     "iopub.status.idle": "2021-10-04T11:26:43.826136Z",
     "shell.execute_reply": "2021-10-04T11:26:43.825524Z",
     "shell.execute_reply.started": "2021-10-04T10:02:24.565712Z"
    },
    "papermill": {
     "duration": 0.476131,
     "end_time": "2021-10-04T11:26:43.826302",
     "exception": false,
     "start_time": "2021-10-04T11:26:43.350171",
     "status": "completed"
    },
    "tags": []
   },
   "outputs": [
    {
     "name": "stderr",
     "output_type": "stream",
     "text": [
      "/opt/conda/lib/python3.7/site-packages/pandas/core/indexing.py:1732: SettingWithCopyWarning: \n",
      "A value is trying to be set on a copy of a slice from a DataFrame\n",
      "\n",
      "See the caveats in the documentation: https://pandas.pydata.org/pandas-docs/stable/user_guide/indexing.html#returning-a-view-versus-a-copy\n",
      "  self._setitem_single_block(indexer, value, name)\n"
     ]
    }
   ],
   "source": [
    "index_NaN_age=list(dataset[\"Age\"][dataset[\"Age\"].isnull()].index)\n",
    "\n",
    "for i in index_NaN_age:\n",
    "    age_med=dataset[\"Age\"].median()\n",
    "    age_pred=dataset[\"Age\"][((dataset[\"SibSp\"] == dataset.iloc[i][\"SibSp\"]) &\n",
    "                            (dataset['Parch'] == dataset.iloc[i][\"Parch\"])&\n",
    "                            (dataset[\"Pclass\"] == dataset.iloc[i]['Pclass']))].median()\n",
    "    \n",
    "    if not np.isnan(age_pred):\n",
    "        dataset[\"Age\"].iloc[i] = age_pred\n",
    "    else :\n",
    "        dataset[\"Age\"].iloc[i] = age_med"
   ]
  },
  {
   "cell_type": "code",
   "execution_count": 37,
   "id": "d20989fd",
   "metadata": {
    "execution": {
     "iopub.execute_input": "2021-10-04T11:26:44.002658Z",
     "iopub.status.busy": "2021-10-04T11:26:43.978711Z",
     "iopub.status.idle": "2021-10-04T11:26:44.611403Z",
     "shell.execute_reply": "2021-10-04T11:26:44.610567Z",
     "shell.execute_reply.started": "2021-10-04T10:02:25.022872Z"
    },
    "papermill": {
     "duration": 0.710824,
     "end_time": "2021-10-04T11:26:44.611542",
     "exception": false,
     "start_time": "2021-10-04T11:26:43.900718",
     "status": "completed"
    },
    "tags": []
   },
   "outputs": [
    {
     "name": "stderr",
     "output_type": "stream",
     "text": [
      "/opt/conda/lib/python3.7/site-packages/seaborn/categorical.py:3717: UserWarning: The `factorplot` function has been renamed to `catplot`. The original name will be removed in a future release. Please update your code. Note that the default `kind` in `factorplot` (`'point'`) has changed `'strip'` in `catplot`.\n",
      "  warnings.warn(msg)\n",
      "/opt/conda/lib/python3.7/site-packages/seaborn/categorical.py:3717: UserWarning: The `factorplot` function has been renamed to `catplot`. The original name will be removed in a future release. Please update your code. Note that the default `kind` in `factorplot` (`'point'`) has changed `'strip'` in `catplot`.\n",
      "  warnings.warn(msg)\n"
     ]
    },
    {
     "data": {
      "image/png": "[encoded data removed]",
      "text/plain": [
       "<Figure size 360x360 with 1 Axes>"
      ]
     },
     "metadata": {},
     "output_type": "display_data"
    },
    {
     "data": {
      "image/png": "[encoded data removed]",
      "text/plain": [
       "<Figure size 360x360 with 1 Axes>"
      ]
     },
     "metadata": {},
     "output_type": "display_data"
    }
   ],
   "source": [
    "g=sns.factorplot(x=\"Survived\", y=\"Age\", data=train, kind=\"box\")\n",
    "g=sns.factorplot(x=\"Survived\", y=\"Age\", data=train, kind=\"violin\")"
   ]
  },
  {
   "cell_type": "markdown",
   "id": "779b944a",
   "metadata": {
    "papermill": {
     "duration": 0.072926,
     "end_time": "2021-10-04T11:26:44.758050",
     "exception": false,
     "start_time": "2021-10-04T11:26:44.685124",
     "status": "completed"
    },
    "tags": []
   },
   "source": [
    "# Feature Engineering"
   ]
  },
  {
   "cell_type": "code",
   "execution_count": 38,
   "id": "7f59ed0d",
   "metadata": {
    "execution": {
     "iopub.execute_input": "2021-10-04T11:26:44.988941Z",
     "iopub.status.busy": "2021-10-04T11:26:44.984709Z",
     "iopub.status.idle": "2021-10-04T11:26:44.992320Z",
     "shell.execute_reply": "2021-10-04T11:26:44.992782Z",
     "shell.execute_reply.started": "2021-10-04T10:02:25.757604Z"
    },
    "papermill": {
     "duration": 0.161645,
     "end_time": "2021-10-04T11:26:44.992951",
     "exception": false,
     "start_time": "2021-10-04T11:26:44.831306",
     "status": "completed"
    },
    "tags": []
   },
   "outputs": [
    {
     "data": {
      "text/plain": [
       "0                              Braund, Mr. Owen Harris\n",
       "1    Cumings, Mrs. John Bradley (Florence Briggs Th...\n",
       "2                               Heikkinen, Miss. Laina\n",
       "3         Futrelle, Mrs. Jacques Heath (Lily May Peel)\n",
       "4                             Allen, Mr. William Henry\n",
       "Name: Name, dtype: object"
      ]
     },
     "execution_count": 38,
     "metadata": {},
     "output_type": "execute_result"
    }
   ],
   "source": [
    "dataset[\"Name\"].head()"
   ]
  },
  {
   "cell_type": "code",
   "execution_count": 39,
   "id": "34206d26",
   "metadata": {
    "execution": {
     "iopub.execute_input": "2021-10-04T11:26:45.150261Z",
     "iopub.status.busy": "2021-10-04T11:26:45.149354Z",
     "iopub.status.idle": "2021-10-04T11:26:45.153208Z",
     "shell.execute_reply": "2021-10-04T11:26:45.152634Z",
     "shell.execute_reply.started": "2021-10-04T10:02:25.768545Z"
    },
    "papermill": {
     "duration": 0.086332,
     "end_time": "2021-10-04T11:26:45.153336",
     "exception": false,
     "start_time": "2021-10-04T11:26:45.067004",
     "status": "completed"
    },
    "tags": []
   },
   "outputs": [
    {
     "data": {
      "text/plain": [
       "0      Mr\n",
       "1     Mrs\n",
       "2    Miss\n",
       "3     Mrs\n",
       "4      Mr\n",
       "Name: Title, dtype: object"
      ]
     },
     "execution_count": 39,
     "metadata": {},
     "output_type": "execute_result"
    }
   ],
   "source": [
    "dataset_title= [i.split(\",\")[1].split(\".\")[0].strip() for i in dataset[\"Name\"]]\n",
    "dataset[\"Title\"] = pd.Series(dataset_title)\n",
    "dataset[\"Title\"].head()"
   ]
  },
  {
   "cell_type": "code",
   "execution_count": 40,
   "id": "27c36122",
   "metadata": {
    "execution": {
     "iopub.execute_input": "2021-10-04T11:26:45.308055Z",
     "iopub.status.busy": "2021-10-04T11:26:45.307447Z",
     "iopub.status.idle": "2021-10-04T11:26:45.637235Z",
     "shell.execute_reply": "2021-10-04T11:26:45.637654Z",
     "shell.execute_reply.started": "2021-10-04T10:02:25.785077Z"
    },
    "papermill": {
     "duration": 0.410022,
     "end_time": "2021-10-04T11:26:45.637825",
     "exception": false,
     "start_time": "2021-10-04T11:26:45.227803",
     "status": "completed"
    },
    "tags": []
   },
   "outputs": [
    {
     "data": {
      "image/png": "[encoded data removed]",
      "text/plain": [
       "<Figure size 432x288 with 1 Axes>"
      ]
     },
     "metadata": {},
     "output_type": "display_data"
    }
   ],
   "source": [
    "g= sns.countplot(x=\"Title\", data=dataset)\n",
    "g=plt.setp(g.get_xticklabels(), rotation=45)"
   ]
  },
  {
   "cell_type": "code",
   "execution_count": 41,
   "id": "d7539090",
   "metadata": {
    "execution": {
     "iopub.execute_input": "2021-10-04T11:26:45.790521Z",
     "iopub.status.busy": "2021-10-04T11:26:45.789886Z",
     "iopub.status.idle": "2021-10-04T11:26:45.798394Z",
     "shell.execute_reply": "2021-10-04T11:26:45.798822Z",
     "shell.execute_reply.started": "2021-10-04T10:02:26.198046Z"
    },
    "papermill": {
     "duration": 0.086386,
     "end_time": "2021-10-04T11:26:45.799017",
     "exception": false,
     "start_time": "2021-10-04T11:26:45.712631",
     "status": "completed"
    },
    "tags": []
   },
   "outputs": [],
   "source": [
    "dataset[\"Title\"]=dataset[\"Title\"].replace(['Lady', 'the Countess','Countess','Capt', 'Col','Don', 'Dr', 'Major', 'Rev', 'Sir', 'Jonkheer', 'Dona'], 'Rare')\n",
    "dataset[\"Title\"]\n",
    "dataset[\"Title\"]=dataset[\"Title\"].map({\"Master\":0, \"Miss\":1, \"Ms\" : 1 , \"Mme\":1, \"Mlle\":1, \"Mrs\":1, \"Mr\":2, \"Rare\":3})"
   ]
  },
  {
   "cell_type": "code",
   "execution_count": 42,
   "id": "8c4d30e8",
   "metadata": {
    "execution": {
     "iopub.execute_input": "2021-10-04T11:26:45.954350Z",
     "iopub.status.busy": "2021-10-04T11:26:45.953695Z",
     "iopub.status.idle": "2021-10-04T11:26:45.959984Z",
     "shell.execute_reply": "2021-10-04T11:26:45.959525Z",
     "shell.execute_reply.started": "2021-10-04T10:02:26.211500Z"
    },
    "papermill": {
     "duration": 0.084708,
     "end_time": "2021-10-04T11:26:45.960118",
     "exception": false,
     "start_time": "2021-10-04T11:26:45.875410",
     "status": "completed"
    },
    "tags": []
   },
   "outputs": [
    {
     "data": {
      "text/plain": [
       "0     2\n",
       "1     1\n",
       "2     1\n",
       "3     1\n",
       "4     2\n",
       "5     2\n",
       "6     2\n",
       "7     0\n",
       "8     1\n",
       "9     1\n",
       "10    1\n",
       "11    1\n",
       "12    2\n",
       "13    2\n",
       "14    1\n",
       "15    1\n",
       "16    0\n",
       "17    2\n",
       "18    1\n",
       "19    1\n",
       "Name: Title, dtype: int64"
      ]
     },
     "execution_count": 42,
     "metadata": {},
     "output_type": "execute_result"
    }
   ],
   "source": [
    "dataset[\"Title\"].head(20)"
   ]
  },
  {
   "cell_type": "code",
   "execution_count": 43,
   "id": "f6c1b7da",
   "metadata": {
    "execution": {
     "iopub.execute_input": "2021-10-04T11:26:46.114588Z",
     "iopub.status.busy": "2021-10-04T11:26:46.113916Z",
     "iopub.status.idle": "2021-10-04T11:26:46.308125Z",
     "shell.execute_reply": "2021-10-04T11:26:46.308574Z",
     "shell.execute_reply.started": "2021-10-04T10:02:26.221892Z"
    },
    "papermill": {
     "duration": 0.273365,
     "end_time": "2021-10-04T11:26:46.308743",
     "exception": false,
     "start_time": "2021-10-04T11:26:46.035378",
     "status": "completed"
    },
    "tags": []
   },
   "outputs": [
    {
     "name": "stderr",
     "output_type": "stream",
     "text": [
      "/opt/conda/lib/python3.7/site-packages/seaborn/_decorators.py:43: FutureWarning: Pass the following variable as a keyword arg: x. From version 0.12, the only valid positional argument will be `data`, and passing other arguments without an explicit keyword will result in an error or misinterpretation.\n",
      "  FutureWarning\n"
     ]
    },
    {
     "data": {
      "image/png": "[encoded data removed]",
      "text/plain": [
       "<Figure size 432x288 with 1 Axes>"
      ]
     },
     "metadata": {},
     "output_type": "display_data"
    }
   ],
   "source": [
    "g=sns.countplot(dataset[\"Title\"])\n",
    "g=g.set_xticklabels([\"Master\", \"Miss/Ms/Mme/Mlle/Mrs\", \"Mr\",\"Rare\"])"
   ]
  },
  {
   "cell_type": "code",
   "execution_count": 44,
   "id": "496d3830",
   "metadata": {
    "execution": {
     "iopub.execute_input": "2021-10-04T11:26:46.465215Z",
     "iopub.status.busy": "2021-10-04T11:26:46.464622Z",
     "iopub.status.idle": "2021-10-04T11:26:46.868527Z",
     "shell.execute_reply": "2021-10-04T11:26:46.868941Z",
     "shell.execute_reply.started": "2021-10-04T10:02:26.452771Z"
    },
    "papermill": {
     "duration": 0.484594,
     "end_time": "2021-10-04T11:26:46.869131",
     "exception": false,
     "start_time": "2021-10-04T11:26:46.384537",
     "status": "completed"
    },
    "tags": []
   },
   "outputs": [
    {
     "name": "stderr",
     "output_type": "stream",
     "text": [
      "/opt/conda/lib/python3.7/site-packages/seaborn/categorical.py:3717: UserWarning: The `factorplot` function has been renamed to `catplot`. The original name will be removed in a future release. Please update your code. Note that the default `kind` in `factorplot` (`'point'`) has changed `'strip'` in `catplot`.\n",
      "  warnings.warn(msg)\n"
     ]
    },
    {
     "data": {
      "image/png": "[encoded data removed]",
      "text/plain": [
       "<Figure size 360x360 with 1 Axes>"
      ]
     },
     "metadata": {},
     "output_type": "display_data"
    }
   ],
   "source": [
    "g=sns.factorplot(x=\"Title\", y=\"Survived\", data=dataset, kind=\"bar\")\n",
    "g=g.set_xticklabels([\"Master\", \"Miss-Mrs\", \"Mr\", \"Rare\"])\n",
    "g=g.set_ylabels(\"survival probability\")"
   ]
  },
  {
   "cell_type": "code",
   "execution_count": 45,
   "id": "05ea048f",
   "metadata": {
    "execution": {
     "iopub.execute_input": "2021-10-04T11:26:47.029303Z",
     "iopub.status.busy": "2021-10-04T11:26:47.026188Z",
     "iopub.status.idle": "2021-10-04T11:26:47.031872Z",
     "shell.execute_reply": "2021-10-04T11:26:47.031389Z",
     "shell.execute_reply.started": "2021-10-04T10:02:26.937137Z"
    },
    "papermill": {
     "duration": 0.086448,
     "end_time": "2021-10-04T11:26:47.032036",
     "exception": false,
     "start_time": "2021-10-04T11:26:46.945588",
     "status": "completed"
    },
    "tags": []
   },
   "outputs": [],
   "source": [
    "dataset.drop(labels=[\"Name\"], axis=1, inplace=True)"
   ]
  },
  {
   "cell_type": "code",
   "execution_count": 46,
   "id": "17831d73",
   "metadata": {
    "execution": {
     "iopub.execute_input": "2021-10-04T11:26:47.194053Z",
     "iopub.status.busy": "2021-10-04T11:26:47.193454Z",
     "iopub.status.idle": "2021-10-04T11:26:47.196512Z",
     "shell.execute_reply": "2021-10-04T11:26:47.196016Z",
     "shell.execute_reply.started": "2021-10-04T10:02:26.944364Z"
    },
    "papermill": {
     "duration": 0.08581,
     "end_time": "2021-10-04T11:26:47.196645",
     "exception": false,
     "start_time": "2021-10-04T11:26:47.110835",
     "status": "completed"
    },
    "tags": []
   },
   "outputs": [],
   "source": [
    "dataset[\"Fsize\"] = dataset[\"SibSp\"] + dataset[\"Parch\"]+1"
   ]
  },
  {
   "cell_type": "code",
   "execution_count": 47,
   "id": "22b31de5",
   "metadata": {
    "execution": {
     "iopub.execute_input": "2021-10-04T11:26:47.356320Z",
     "iopub.status.busy": "2021-10-04T11:26:47.355538Z",
     "iopub.status.idle": "2021-10-04T11:26:47.879257Z",
     "shell.execute_reply": "2021-10-04T11:26:47.878755Z",
     "shell.execute_reply.started": "2021-10-04T10:02:26.958161Z"
    },
    "papermill": {
     "duration": 0.605639,
     "end_time": "2021-10-04T11:26:47.879389",
     "exception": false,
     "start_time": "2021-10-04T11:26:47.273750",
     "status": "completed"
    },
    "tags": []
   },
   "outputs": [
    {
     "name": "stderr",
     "output_type": "stream",
     "text": [
      "/opt/conda/lib/python3.7/site-packages/seaborn/categorical.py:3717: UserWarning: The `factorplot` function has been renamed to `catplot`. The original name will be removed in a future release. Please update your code. Note that the default `kind` in `factorplot` (`'point'`) has changed `'strip'` in `catplot`.\n",
      "  warnings.warn(msg)\n"
     ]
    },
    {
     "data": {
      "image/png": "[encoded data removed]",
      "text/plain": [
       "<Figure size 360x360 with 1 Axes>"
      ]
     },
     "metadata": {},
     "output_type": "display_data"
    }
   ],
   "source": [
    "g=sns.factorplot(x=\"Fsize\", y=\"Survived\", data=dataset)\n",
    "g=g.set_ylabels(\"survival probability\")"
   ]
  },
  {
   "cell_type": "code",
   "execution_count": 48,
   "id": "d39debff",
   "metadata": {
    "execution": {
     "iopub.execute_input": "2021-10-04T11:26:48.046348Z",
     "iopub.status.busy": "2021-10-04T11:26:48.045418Z",
     "iopub.status.idle": "2021-10-04T11:26:48.048057Z",
     "shell.execute_reply": "2021-10-04T11:26:48.047503Z",
     "shell.execute_reply.started": "2021-10-04T10:02:27.614771Z"
    },
    "papermill": {
     "duration": 0.091099,
     "end_time": "2021-10-04T11:26:48.048197",
     "exception": false,
     "start_time": "2021-10-04T11:26:47.957098",
     "status": "completed"
    },
    "tags": []
   },
   "outputs": [],
   "source": [
    "dataset[\"Single\"]=dataset['Fsize'].map(lambda s:1 if s==1 else 0)\n",
    "dataset['SmallF'] = dataset['Fsize'].map(lambda s: 1 if  s == 2  else 0)\n",
    "dataset['MedF'] = dataset['Fsize'].map(lambda s: 1 if 3 <= s <= 4 else 0)\n",
    "dataset['LargeF'] = dataset['Fsize'].map(lambda s: 1 if s >= 5 else 0)"
   ]
  },
  {
   "cell_type": "code",
   "execution_count": 49,
   "id": "c9c8a794",
   "metadata": {
    "execution": {
     "iopub.execute_input": "2021-10-04T11:26:48.207855Z",
     "iopub.status.busy": "2021-10-04T11:26:48.207308Z",
     "iopub.status.idle": "2021-10-04T11:26:48.221326Z",
     "shell.execute_reply": "2021-10-04T11:26:48.221716Z",
     "shell.execute_reply.started": "2021-10-04T10:02:27.629129Z"
    },
    "papermill": {
     "duration": 0.095789,
     "end_time": "2021-10-04T11:26:48.221883",
     "exception": false,
     "start_time": "2021-10-04T11:26:48.126094",
     "status": "completed"
    },
    "tags": []
   },
   "outputs": [
    {
     "data": {
      "text/html": [
       "<div>\n",
       "<style scoped>\n",
       "    .dataframe tbody tr th:only-of-type {\n",
       "        vertical-align: middle;\n",
       "    }\n",
       "\n",
       "    .dataframe tbody tr th {\n",
       "        vertical-align: top;\n",
       "    }\n",
       "\n",
       "    .dataframe thead th {\n",
       "        text-align: right;\n",
       "    }\n",
       "</style>\n",
       "<table border=\"1\" class=\"dataframe\">\n",
       "  <thead>\n",
       "    <tr style=\"text-align: right;\">\n",
       "      <th></th>\n",
       "      <th>PassengerId</th>\n",
       "      <th>Survived</th>\n",
       "      <th>Pclass</th>\n",
       "      <th>Sex</th>\n",
       "      <th>Age</th>\n",
       "      <th>SibSp</th>\n",
       "      <th>Parch</th>\n",
       "      <th>Ticket</th>\n",
       "      <th>Fare</th>\n",
       "      <th>Cabin</th>\n",
       "      <th>Embarked</th>\n",
       "      <th>Title</th>\n",
       "      <th>Fsize</th>\n",
       "      <th>Single</th>\n",
       "      <th>SmallF</th>\n",
       "      <th>MedF</th>\n",
       "      <th>LargeF</th>\n",
       "    </tr>\n",
       "  </thead>\n",
       "  <tbody>\n",
       "    <tr>\n",
       "      <th>0</th>\n",
       "      <td>1</td>\n",
       "      <td>0.0</td>\n",
       "      <td>3</td>\n",
       "      <td>0</td>\n",
       "      <td>22.0</td>\n",
       "      <td>1</td>\n",
       "      <td>0</td>\n",
       "      <td>A/5 21171</td>\n",
       "      <td>1.981001</td>\n",
       "      <td>NaN</td>\n",
       "      <td>S</td>\n",
       "      <td>2</td>\n",
       "      <td>2</td>\n",
       "      <td>0</td>\n",
       "      <td>1</td>\n",
       "      <td>0</td>\n",
       "      <td>0</td>\n",
       "    </tr>\n",
       "    <tr>\n",
       "      <th>1</th>\n",
       "      <td>2</td>\n",
       "      <td>1.0</td>\n",
       "      <td>1</td>\n",
       "      <td>1</td>\n",
       "      <td>38.0</td>\n",
       "      <td>1</td>\n",
       "      <td>0</td>\n",
       "      <td>PC 17599</td>\n",
       "      <td>4.266662</td>\n",
       "      <td>C85</td>\n",
       "      <td>C</td>\n",
       "      <td>1</td>\n",
       "      <td>2</td>\n",
       "      <td>0</td>\n",
       "      <td>1</td>\n",
       "      <td>0</td>\n",
       "      <td>0</td>\n",
       "    </tr>\n",
       "    <tr>\n",
       "      <th>2</th>\n",
       "      <td>3</td>\n",
       "      <td>1.0</td>\n",
       "      <td>3</td>\n",
       "      <td>1</td>\n",
       "      <td>26.0</td>\n",
       "      <td>0</td>\n",
       "      <td>0</td>\n",
       "      <td>STON/O2. 3101282</td>\n",
       "      <td>2.070022</td>\n",
       "      <td>NaN</td>\n",
       "      <td>S</td>\n",
       "      <td>1</td>\n",
       "      <td>1</td>\n",
       "      <td>1</td>\n",
       "      <td>0</td>\n",
       "      <td>0</td>\n",
       "      <td>0</td>\n",
       "    </tr>\n",
       "    <tr>\n",
       "      <th>3</th>\n",
       "      <td>4</td>\n",
       "      <td>1.0</td>\n",
       "      <td>1</td>\n",
       "      <td>1</td>\n",
       "      <td>35.0</td>\n",
       "      <td>1</td>\n",
       "      <td>0</td>\n",
       "      <td>113803</td>\n",
       "      <td>3.972177</td>\n",
       "      <td>C123</td>\n",
       "      <td>S</td>\n",
       "      <td>1</td>\n",
       "      <td>2</td>\n",
       "      <td>0</td>\n",
       "      <td>1</td>\n",
       "      <td>0</td>\n",
       "      <td>0</td>\n",
       "    </tr>\n",
       "    <tr>\n",
       "      <th>4</th>\n",
       "      <td>5</td>\n",
       "      <td>0.0</td>\n",
       "      <td>3</td>\n",
       "      <td>0</td>\n",
       "      <td>35.0</td>\n",
       "      <td>0</td>\n",
       "      <td>0</td>\n",
       "      <td>373450</td>\n",
       "      <td>2.085672</td>\n",
       "      <td>NaN</td>\n",
       "      <td>S</td>\n",
       "      <td>2</td>\n",
       "      <td>1</td>\n",
       "      <td>1</td>\n",
       "      <td>0</td>\n",
       "      <td>0</td>\n",
       "      <td>0</td>\n",
       "    </tr>\n",
       "  </tbody>\n",
       "</table>\n",
       "</div>"
      ],
      "text/plain": [
       "   PassengerId  Survived  Pclass  Sex   Age  SibSp  Parch            Ticket  \\\n",
       "0            1       0.0       3    0  22.0      1      0         A/5 21171   \n",
       "1            2       1.0       1    1  38.0      1      0          PC 17599   \n",
       "2            3       1.0       3    1  26.0      0      0  STON/O2. 3101282   \n",
       "3            4       1.0       1    1  35.0      1      0            113803   \n",
       "4            5       0.0       3    0  35.0      0      0            373450   \n",
       "\n",
       "       Fare Cabin Embarked  Title  Fsize  Single  SmallF  MedF  LargeF  \n",
       "0  1.981001   NaN        S      2      2       0       1     0       0  \n",
       "1  4.266662   C85        C      1      2       0       1     0       0  \n",
       "2  2.070022   NaN        S      1      1       1       0     0       0  \n",
       "3  3.972177  C123        S      1      2       0       1     0       0  \n",
       "4  2.085672   NaN        S      2      1       1       0     0       0  "
      ]
     },
     "execution_count": 49,
     "metadata": {},
     "output_type": "execute_result"
    }
   ],
   "source": [
    "dataset.head()"
   ]
  },
  {
   "cell_type": "code",
   "execution_count": 50,
   "id": "a6586b7d",
   "metadata": {
    "execution": {
     "iopub.execute_input": "2021-10-04T11:26:48.386360Z",
     "iopub.status.busy": "2021-10-04T11:26:48.382365Z",
     "iopub.status.idle": "2021-10-04T11:26:49.647905Z",
     "shell.execute_reply": "2021-10-04T11:26:49.648399Z",
     "shell.execute_reply.started": "2021-10-04T10:02:27.655288Z"
    },
    "papermill": {
     "duration": 1.347231,
     "end_time": "2021-10-04T11:26:49.648569",
     "exception": false,
     "start_time": "2021-10-04T11:26:48.301338",
     "status": "completed"
    },
    "tags": []
   },
   "outputs": [
    {
     "name": "stderr",
     "output_type": "stream",
     "text": [
      "/opt/conda/lib/python3.7/site-packages/seaborn/categorical.py:3717: UserWarning: The `factorplot` function has been renamed to `catplot`. The original name will be removed in a future release. Please update your code. Note that the default `kind` in `factorplot` (`'point'`) has changed `'strip'` in `catplot`.\n",
      "  warnings.warn(msg)\n",
      "/opt/conda/lib/python3.7/site-packages/seaborn/categorical.py:3717: UserWarning: The `factorplot` function has been renamed to `catplot`. The original name will be removed in a future release. Please update your code. Note that the default `kind` in `factorplot` (`'point'`) has changed `'strip'` in `catplot`.\n",
      "  warnings.warn(msg)\n",
      "/opt/conda/lib/python3.7/site-packages/seaborn/categorical.py:3717: UserWarning: The `factorplot` function has been renamed to `catplot`. The original name will be removed in a future release. Please update your code. Note that the default `kind` in `factorplot` (`'point'`) has changed `'strip'` in `catplot`.\n",
      "  warnings.warn(msg)\n",
      "/opt/conda/lib/python3.7/site-packages/seaborn/categorical.py:3717: UserWarning: The `factorplot` function has been renamed to `catplot`. The original name will be removed in a future release. Please update your code. Note that the default `kind` in `factorplot` (`'point'`) has changed `'strip'` in `catplot`.\n",
      "  warnings.warn(msg)\n"
     ]
    },
    {
     "data": {
      "image/png": "[encoded data removed]",
      "text/plain": [
       "<Figure size 360x360 with 1 Axes>"
      ]
     },
     "metadata": {},
     "output_type": "display_data"
    },
    {
     "data": {
      "image/png": "[encoded data removed]",
      "text/plain": [
       "<Figure size 360x360 with 1 Axes>"
      ]
     },
     "metadata": {},
     "output_type": "display_data"
    },
    {
     "data": {
      "image/png": "[encoded data removed]",
      "text/plain": [
       "<Figure size 360x360 with 1 Axes>"
      ]
     },
     "metadata": {},
     "output_type": "display_data"
    },
    {
     "data": {
      "image/png": "[encoded data removed]",
      "text/plain": [
       "<Figure size 360x360 with 1 Axes>"
      ]
     },
     "metadata": {},
     "output_type": "display_data"
    }
   ],
   "source": [
    "g=sns.factorplot(x=\"Single\", y=\"Survived\", data=dataset, kind=\"bar\")\n",
    "g = g.set_ylabels(\"Survival Probability\")\n",
    "\n",
    "g = sns.factorplot(x=\"SmallF\",y=\"Survived\",data=dataset,kind=\"bar\")\n",
    "g = g.set_ylabels(\"Survival Probability\")\n",
    "\n",
    "g = sns.factorplot(x=\"MedF\",y=\"Survived\",data=dataset,kind=\"bar\")\n",
    "g = g.set_ylabels(\"Survival Probability\")\n",
    "\n",
    "g = sns.factorplot(x=\"LargeF\",y=\"Survived\",data=dataset,kind=\"bar\")\n",
    "g = g.set_ylabels(\"Survival Probability\")"
   ]
  },
  {
   "cell_type": "code",
   "execution_count": 51,
   "id": "73c0f697",
   "metadata": {
    "execution": {
     "iopub.execute_input": "2021-10-04T11:26:49.814690Z",
     "iopub.status.busy": "2021-10-04T11:26:49.813768Z",
     "iopub.status.idle": "2021-10-04T11:26:49.825348Z",
     "shell.execute_reply": "2021-10-04T11:26:49.825760Z",
     "shell.execute_reply.started": "2021-10-04T10:02:29.258201Z"
    },
    "papermill": {
     "duration": 0.096321,
     "end_time": "2021-10-04T11:26:49.825927",
     "exception": false,
     "start_time": "2021-10-04T11:26:49.729606",
     "status": "completed"
    },
    "tags": []
   },
   "outputs": [],
   "source": [
    "dataset=pd.get_dummies(dataset, columns=[\"Title\"])\n",
    "dataset=pd.get_dummies(dataset, columns=[\"Embarked\"], prefix=\"Em\")"
   ]
  },
  {
   "cell_type": "code",
   "execution_count": 52,
   "id": "370029a8",
   "metadata": {
    "execution": {
     "iopub.execute_input": "2021-10-04T11:26:49.992827Z",
     "iopub.status.busy": "2021-10-04T11:26:49.991898Z",
     "iopub.status.idle": "2021-10-04T11:26:50.009684Z",
     "shell.execute_reply": "2021-10-04T11:26:50.010146Z",
     "shell.execute_reply.started": "2021-10-04T10:02:29.276806Z"
    },
    "papermill": {
     "duration": 0.103079,
     "end_time": "2021-10-04T11:26:50.010311",
     "exception": false,
     "start_time": "2021-10-04T11:26:49.907232",
     "status": "completed"
    },
    "tags": []
   },
   "outputs": [
    {
     "data": {
      "text/html": [
       "<div>\n",
       "<style scoped>\n",
       "    .dataframe tbody tr th:only-of-type {\n",
       "        vertical-align: middle;\n",
       "    }\n",
       "\n",
       "    .dataframe tbody tr th {\n",
       "        vertical-align: top;\n",
       "    }\n",
       "\n",
       "    .dataframe thead th {\n",
       "        text-align: right;\n",
       "    }\n",
       "</style>\n",
       "<table border=\"1\" class=\"dataframe\">\n",
       "  <thead>\n",
       "    <tr style=\"text-align: right;\">\n",
       "      <th></th>\n",
       "      <th>PassengerId</th>\n",
       "      <th>Survived</th>\n",
       "      <th>Pclass</th>\n",
       "      <th>Sex</th>\n",
       "      <th>Age</th>\n",
       "      <th>SibSp</th>\n",
       "      <th>Parch</th>\n",
       "      <th>Ticket</th>\n",
       "      <th>Fare</th>\n",
       "      <th>Cabin</th>\n",
       "      <th>...</th>\n",
       "      <th>SmallF</th>\n",
       "      <th>MedF</th>\n",
       "      <th>LargeF</th>\n",
       "      <th>Title_0</th>\n",
       "      <th>Title_1</th>\n",
       "      <th>Title_2</th>\n",
       "      <th>Title_3</th>\n",
       "      <th>Em_C</th>\n",
       "      <th>Em_Q</th>\n",
       "      <th>Em_S</th>\n",
       "    </tr>\n",
       "  </thead>\n",
       "  <tbody>\n",
       "    <tr>\n",
       "      <th>0</th>\n",
       "      <td>1</td>\n",
       "      <td>0.0</td>\n",
       "      <td>3</td>\n",
       "      <td>0</td>\n",
       "      <td>22.0</td>\n",
       "      <td>1</td>\n",
       "      <td>0</td>\n",
       "      <td>A/5 21171</td>\n",
       "      <td>1.981001</td>\n",
       "      <td>NaN</td>\n",
       "      <td>...</td>\n",
       "      <td>1</td>\n",
       "      <td>0</td>\n",
       "      <td>0</td>\n",
       "      <td>0</td>\n",
       "      <td>0</td>\n",
       "      <td>1</td>\n",
       "      <td>0</td>\n",
       "      <td>0</td>\n",
       "      <td>0</td>\n",
       "      <td>1</td>\n",
       "    </tr>\n",
       "    <tr>\n",
       "      <th>1</th>\n",
       "      <td>2</td>\n",
       "      <td>1.0</td>\n",
       "      <td>1</td>\n",
       "      <td>1</td>\n",
       "      <td>38.0</td>\n",
       "      <td>1</td>\n",
       "      <td>0</td>\n",
       "      <td>PC 17599</td>\n",
       "      <td>4.266662</td>\n",
       "      <td>C85</td>\n",
       "      <td>...</td>\n",
       "      <td>1</td>\n",
       "      <td>0</td>\n",
       "      <td>0</td>\n",
       "      <td>0</td>\n",
       "      <td>1</td>\n",
       "      <td>0</td>\n",
       "      <td>0</td>\n",
       "      <td>1</td>\n",
       "      <td>0</td>\n",
       "      <td>0</td>\n",
       "    </tr>\n",
       "    <tr>\n",
       "      <th>2</th>\n",
       "      <td>3</td>\n",
       "      <td>1.0</td>\n",
       "      <td>3</td>\n",
       "      <td>1</td>\n",
       "      <td>26.0</td>\n",
       "      <td>0</td>\n",
       "      <td>0</td>\n",
       "      <td>STON/O2. 3101282</td>\n",
       "      <td>2.070022</td>\n",
       "      <td>NaN</td>\n",
       "      <td>...</td>\n",
       "      <td>0</td>\n",
       "      <td>0</td>\n",
       "      <td>0</td>\n",
       "      <td>0</td>\n",
       "      <td>1</td>\n",
       "      <td>0</td>\n",
       "      <td>0</td>\n",
       "      <td>0</td>\n",
       "      <td>0</td>\n",
       "      <td>1</td>\n",
       "    </tr>\n",
       "    <tr>\n",
       "      <th>3</th>\n",
       "      <td>4</td>\n",
       "      <td>1.0</td>\n",
       "      <td>1</td>\n",
       "      <td>1</td>\n",
       "      <td>35.0</td>\n",
       "      <td>1</td>\n",
       "      <td>0</td>\n",
       "      <td>113803</td>\n",
       "      <td>3.972177</td>\n",
       "      <td>C123</td>\n",
       "      <td>...</td>\n",
       "      <td>1</td>\n",
       "      <td>0</td>\n",
       "      <td>0</td>\n",
       "      <td>0</td>\n",
       "      <td>1</td>\n",
       "      <td>0</td>\n",
       "      <td>0</td>\n",
       "      <td>0</td>\n",
       "      <td>0</td>\n",
       "      <td>1</td>\n",
       "    </tr>\n",
       "    <tr>\n",
       "      <th>4</th>\n",
       "      <td>5</td>\n",
       "      <td>0.0</td>\n",
       "      <td>3</td>\n",
       "      <td>0</td>\n",
       "      <td>35.0</td>\n",
       "      <td>0</td>\n",
       "      <td>0</td>\n",
       "      <td>373450</td>\n",
       "      <td>2.085672</td>\n",
       "      <td>NaN</td>\n",
       "      <td>...</td>\n",
       "      <td>0</td>\n",
       "      <td>0</td>\n",
       "      <td>0</td>\n",
       "      <td>0</td>\n",
       "      <td>0</td>\n",
       "      <td>1</td>\n",
       "      <td>0</td>\n",
       "      <td>0</td>\n",
       "      <td>0</td>\n",
       "      <td>1</td>\n",
       "    </tr>\n",
       "  </tbody>\n",
       "</table>\n",
       "<p>5 rows × 22 columns</p>\n",
       "</div>"
      ],
      "text/plain": [
       "   PassengerId  Survived  Pclass  Sex   Age  SibSp  Parch            Ticket  \\\n",
       "0            1       0.0       3    0  22.0      1      0         A/5 21171   \n",
       "1            2       1.0       1    1  38.0      1      0          PC 17599   \n",
       "2            3       1.0       3    1  26.0      0      0  STON/O2. 3101282   \n",
       "3            4       1.0       1    1  35.0      1      0            113803   \n",
       "4            5       0.0       3    0  35.0      0      0            373450   \n",
       "\n",
       "       Fare Cabin  ...  SmallF  MedF  LargeF  Title_0  Title_1  Title_2  \\\n",
       "0  1.981001   NaN  ...       1     0       0        0        0        1   \n",
       "1  4.266662   C85  ...       1     0       0        0        1        0   \n",
       "2  2.070022   NaN  ...       0     0       0        0        1        0   \n",
       "3  3.972177  C123  ...       1     0       0        0        1        0   \n",
       "4  2.085672   NaN  ...       0     0       0        0        0        1   \n",
       "\n",
       "   Title_3  Em_C  Em_Q  Em_S  \n",
       "0        0     0     0     1  \n",
       "1        0     1     0     0  \n",
       "2        0     0     0     1  \n",
       "3        0     0     0     1  \n",
       "4        0     0     0     1  \n",
       "\n",
       "[5 rows x 22 columns]"
      ]
     },
     "execution_count": 52,
     "metadata": {},
     "output_type": "execute_result"
    }
   ],
   "source": [
    "dataset.head()"
   ]
  },
  {
   "cell_type": "code",
   "execution_count": 53,
   "id": "af9cad89",
   "metadata": {
    "execution": {
     "iopub.execute_input": "2021-10-04T11:26:50.177323Z",
     "iopub.status.busy": "2021-10-04T11:26:50.176453Z",
     "iopub.status.idle": "2021-10-04T11:26:50.182294Z",
     "shell.execute_reply": "2021-10-04T11:26:50.182742Z",
     "shell.execute_reply.started": "2021-10-04T10:02:29.304952Z"
    },
    "papermill": {
     "duration": 0.090908,
     "end_time": "2021-10-04T11:26:50.182907",
     "exception": false,
     "start_time": "2021-10-04T11:26:50.091999",
     "status": "completed"
    },
    "tags": []
   },
   "outputs": [
    {
     "data": {
      "text/plain": [
       "0     NaN\n",
       "1     C85\n",
       "2     NaN\n",
       "3    C123\n",
       "4     NaN\n",
       "Name: Cabin, dtype: object"
      ]
     },
     "execution_count": 53,
     "metadata": {},
     "output_type": "execute_result"
    }
   ],
   "source": [
    "dataset[\"Cabin\"].head()"
   ]
  },
  {
   "cell_type": "code",
   "execution_count": 54,
   "id": "9d636d8a",
   "metadata": {
    "execution": {
     "iopub.execute_input": "2021-10-04T11:26:50.353042Z",
     "iopub.status.busy": "2021-10-04T11:26:50.352372Z",
     "iopub.status.idle": "2021-10-04T11:26:50.359004Z",
     "shell.execute_reply": "2021-10-04T11:26:50.359392Z",
     "shell.execute_reply.started": "2021-10-04T10:02:29.317084Z"
    },
    "papermill": {
     "duration": 0.092228,
     "end_time": "2021-10-04T11:26:50.359556",
     "exception": false,
     "start_time": "2021-10-04T11:26:50.267328",
     "status": "completed"
    },
    "tags": []
   },
   "outputs": [
    {
     "data": {
      "text/plain": [
       "count     292\n",
       "unique    186\n",
       "top        G6\n",
       "freq        5\n",
       "Name: Cabin, dtype: object"
      ]
     },
     "execution_count": 54,
     "metadata": {},
     "output_type": "execute_result"
    }
   ],
   "source": [
    "dataset[\"Cabin\"].describe()"
   ]
  },
  {
   "cell_type": "code",
   "execution_count": 55,
   "id": "cd9cc5d2",
   "metadata": {
    "execution": {
     "iopub.execute_input": "2021-10-04T11:26:50.527080Z",
     "iopub.status.busy": "2021-10-04T11:26:50.526460Z",
     "iopub.status.idle": "2021-10-04T11:26:50.532136Z",
     "shell.execute_reply": "2021-10-04T11:26:50.532545Z",
     "shell.execute_reply.started": "2021-10-04T10:02:29.331721Z"
    },
    "papermill": {
     "duration": 0.090678,
     "end_time": "2021-10-04T11:26:50.532720",
     "exception": false,
     "start_time": "2021-10-04T11:26:50.442042",
     "status": "completed"
    },
    "tags": []
   },
   "outputs": [
    {
     "data": {
      "text/plain": [
       "1      C85\n",
       "3     C123\n",
       "6      E46\n",
       "10      G6\n",
       "11    C103\n",
       "Name: Cabin, dtype: object"
      ]
     },
     "execution_count": 55,
     "metadata": {},
     "output_type": "execute_result"
    }
   ],
   "source": [
    "dataset[\"Cabin\"][dataset[\"Cabin\"].notnull()].head()"
   ]
  },
  {
   "cell_type": "code",
   "execution_count": 56,
   "id": "bb49e84f",
   "metadata": {
    "execution": {
     "iopub.execute_input": "2021-10-04T11:26:50.700877Z",
     "iopub.status.busy": "2021-10-04T11:26:50.700286Z",
     "iopub.status.idle": "2021-10-04T11:26:50.706458Z",
     "shell.execute_reply": "2021-10-04T11:26:50.705989Z",
     "shell.execute_reply.started": "2021-10-04T10:02:29.348241Z"
    },
    "papermill": {
     "duration": 0.091265,
     "end_time": "2021-10-04T11:26:50.706584",
     "exception": false,
     "start_time": "2021-10-04T11:26:50.615319",
     "status": "completed"
    },
    "tags": []
   },
   "outputs": [],
   "source": [
    "dataset[\"Cabin\"]= pd.Series([i[0] if not pd.isnull(i) else 'X' for i in dataset['Cabin']])"
   ]
  },
  {
   "cell_type": "code",
   "execution_count": 57,
   "id": "4b46de6c",
   "metadata": {
    "execution": {
     "iopub.execute_input": "2021-10-04T11:26:50.878713Z",
     "iopub.status.busy": "2021-10-04T11:26:50.877896Z",
     "iopub.status.idle": "2021-10-04T11:26:50.880759Z",
     "shell.execute_reply": "2021-10-04T11:26:50.881157Z",
     "shell.execute_reply.started": "2021-10-04T10:02:29.358457Z"
    },
    "papermill": {
     "duration": 0.09192,
     "end_time": "2021-10-04T11:26:50.881327",
     "exception": false,
     "start_time": "2021-10-04T11:26:50.789407",
     "status": "completed"
    },
    "tags": []
   },
   "outputs": [
    {
     "data": {
      "text/plain": [
       "0     X\n",
       "1     C\n",
       "2     X\n",
       "3     C\n",
       "4     X\n",
       "5     X\n",
       "6     E\n",
       "7     X\n",
       "8     X\n",
       "9     X\n",
       "10    G\n",
       "11    C\n",
       "12    X\n",
       "13    X\n",
       "14    X\n",
       "15    X\n",
       "16    X\n",
       "17    X\n",
       "18    X\n",
       "19    X\n",
       "20    X\n",
       "21    D\n",
       "22    X\n",
       "23    A\n",
       "24    X\n",
       "25    X\n",
       "26    X\n",
       "27    X\n",
       "28    X\n",
       "29    X\n",
       "Name: Cabin, dtype: object"
      ]
     },
     "execution_count": 57,
     "metadata": {},
     "output_type": "execute_result"
    }
   ],
   "source": [
    "dataset['Cabin'].head(30)"
   ]
  },
  {
   "cell_type": "code",
   "execution_count": 58,
   "id": "75545ae1",
   "metadata": {
    "execution": {
     "iopub.execute_input": "2021-10-04T11:26:51.054368Z",
     "iopub.status.busy": "2021-10-04T11:26:51.053530Z",
     "iopub.status.idle": "2021-10-04T11:26:51.057200Z",
     "shell.execute_reply": "2021-10-04T11:26:51.056721Z",
     "shell.execute_reply.started": "2021-10-04T10:02:29.375358Z"
    },
    "papermill": {
     "duration": 0.091934,
     "end_time": "2021-10-04T11:26:51.057326",
     "exception": false,
     "start_time": "2021-10-04T11:26:50.965392",
     "status": "completed"
    },
    "tags": []
   },
   "outputs": [
    {
     "data": {
      "text/plain": [
       "array(['X', 'C', 'E', 'G', 'D', 'A', 'B', 'F', 'T'], dtype=object)"
      ]
     },
     "execution_count": 58,
     "metadata": {},
     "output_type": "execute_result"
    }
   ],
   "source": [
    "dataset['Cabin'].unique()"
   ]
  },
  {
   "cell_type": "code",
   "execution_count": 59,
   "id": "2d1e3188",
   "metadata": {
    "execution": {
     "iopub.execute_input": "2021-10-04T11:26:51.228406Z",
     "iopub.status.busy": "2021-10-04T11:26:51.227828Z",
     "iopub.status.idle": "2021-10-04T11:26:51.411197Z",
     "shell.execute_reply": "2021-10-04T11:26:51.411893Z",
     "shell.execute_reply.started": "2021-10-04T10:02:29.391242Z"
    },
    "papermill": {
     "duration": 0.271792,
     "end_time": "2021-10-04T11:26:51.412128",
     "exception": false,
     "start_time": "2021-10-04T11:26:51.140336",
     "status": "completed"
    },
    "tags": []
   },
   "outputs": [
    {
     "name": "stderr",
     "output_type": "stream",
     "text": [
      "/opt/conda/lib/python3.7/site-packages/seaborn/_decorators.py:43: FutureWarning: Pass the following variable as a keyword arg: x. From version 0.12, the only valid positional argument will be `data`, and passing other arguments without an explicit keyword will result in an error or misinterpretation.\n",
      "  FutureWarning\n"
     ]
    },
    {
     "data": {
      "image/png": "[encoded data removed]",
      "text/plain": [
       "<Figure size 432x288 with 1 Axes>"
      ]
     },
     "metadata": {},
     "output_type": "display_data"
    }
   ],
   "source": [
    "g=sns.countplot(dataset[\"Cabin\"], order=['A','B','C','D','E','F','G','T','X'])"
   ]
  },
  {
   "cell_type": "code",
   "execution_count": 60,
   "id": "850acd22",
   "metadata": {
    "execution": {
     "iopub.execute_input": "2021-10-04T11:26:51.584154Z",
     "iopub.status.busy": "2021-10-04T11:26:51.583536Z",
     "iopub.status.idle": "2021-10-04T11:26:52.122114Z",
     "shell.execute_reply": "2021-10-04T11:26:52.122598Z",
     "shell.execute_reply.started": "2021-10-04T10:02:29.672629Z"
    },
    "papermill": {
     "duration": 0.626284,
     "end_time": "2021-10-04T11:26:52.122786",
     "exception": false,
     "start_time": "2021-10-04T11:26:51.496502",
     "status": "completed"
    },
    "tags": []
   },
   "outputs": [
    {
     "name": "stderr",
     "output_type": "stream",
     "text": [
      "/opt/conda/lib/python3.7/site-packages/seaborn/categorical.py:3717: UserWarning: The `factorplot` function has been renamed to `catplot`. The original name will be removed in a future release. Please update your code. Note that the default `kind` in `factorplot` (`'point'`) has changed `'strip'` in `catplot`.\n",
      "  warnings.warn(msg)\n"
     ]
    },
    {
     "data": {
      "image/png": "[encoded data removed]",
      "text/plain": [
       "<Figure size 360x360 with 1 Axes>"
      ]
     },
     "metadata": {},
     "output_type": "display_data"
    }
   ],
   "source": [
    "g=sns.factorplot(y=\"Survived\", x=\"Cabin\", data=dataset, kind=\"bar\", order=['A','B','C','D','E','F','G','T','X'])\n",
    "g=g.set_ylabels(\"Survival Probability\")"
   ]
  },
  {
   "cell_type": "code",
   "execution_count": 61,
   "id": "640f2b19",
   "metadata": {
    "execution": {
     "iopub.execute_input": "2021-10-04T11:26:52.298369Z",
     "iopub.status.busy": "2021-10-04T11:26:52.297783Z",
     "iopub.status.idle": "2021-10-04T11:26:52.304823Z",
     "shell.execute_reply": "2021-10-04T11:26:52.305302Z",
     "shell.execute_reply.started": "2021-10-04T10:02:30.382640Z"
    },
    "papermill": {
     "duration": 0.096378,
     "end_time": "2021-10-04T11:26:52.305468",
     "exception": false,
     "start_time": "2021-10-04T11:26:52.209090",
     "status": "completed"
    },
    "tags": []
   },
   "outputs": [],
   "source": [
    "dataset= pd.get_dummies(dataset, columns=[\"Cabin\"], prefix=\"Cabin\")"
   ]
  },
  {
   "cell_type": "code",
   "execution_count": 62,
   "id": "fa42894e",
   "metadata": {
    "execution": {
     "iopub.execute_input": "2021-10-04T11:26:52.479800Z",
     "iopub.status.busy": "2021-10-04T11:26:52.479239Z",
     "iopub.status.idle": "2021-10-04T11:26:52.498424Z",
     "shell.execute_reply": "2021-10-04T11:26:52.497971Z",
     "shell.execute_reply.started": "2021-10-04T10:02:30.394958Z"
    },
    "papermill": {
     "duration": 0.106667,
     "end_time": "2021-10-04T11:26:52.498557",
     "exception": false,
     "start_time": "2021-10-04T11:26:52.391890",
     "status": "completed"
    },
    "tags": []
   },
   "outputs": [
    {
     "data": {
      "text/html": [
       "<div>\n",
       "<style scoped>\n",
       "    .dataframe tbody tr th:only-of-type {\n",
       "        vertical-align: middle;\n",
       "    }\n",
       "\n",
       "    .dataframe tbody tr th {\n",
       "        vertical-align: top;\n",
       "    }\n",
       "\n",
       "    .dataframe thead th {\n",
       "        text-align: right;\n",
       "    }\n",
       "</style>\n",
       "<table border=\"1\" class=\"dataframe\">\n",
       "  <thead>\n",
       "    <tr style=\"text-align: right;\">\n",
       "      <th></th>\n",
       "      <th>PassengerId</th>\n",
       "      <th>Survived</th>\n",
       "      <th>Pclass</th>\n",
       "      <th>Sex</th>\n",
       "      <th>Age</th>\n",
       "      <th>SibSp</th>\n",
       "      <th>Parch</th>\n",
       "      <th>Ticket</th>\n",
       "      <th>Fare</th>\n",
       "      <th>Fsize</th>\n",
       "      <th>...</th>\n",
       "      <th>Em_S</th>\n",
       "      <th>Cabin_A</th>\n",
       "      <th>Cabin_B</th>\n",
       "      <th>Cabin_C</th>\n",
       "      <th>Cabin_D</th>\n",
       "      <th>Cabin_E</th>\n",
       "      <th>Cabin_F</th>\n",
       "      <th>Cabin_G</th>\n",
       "      <th>Cabin_T</th>\n",
       "      <th>Cabin_X</th>\n",
       "    </tr>\n",
       "  </thead>\n",
       "  <tbody>\n",
       "    <tr>\n",
       "      <th>0</th>\n",
       "      <td>1</td>\n",
       "      <td>0.0</td>\n",
       "      <td>3</td>\n",
       "      <td>0</td>\n",
       "      <td>22.0</td>\n",
       "      <td>1</td>\n",
       "      <td>0</td>\n",
       "      <td>A/5 21171</td>\n",
       "      <td>1.981001</td>\n",
       "      <td>2</td>\n",
       "      <td>...</td>\n",
       "      <td>1</td>\n",
       "      <td>0</td>\n",
       "      <td>0</td>\n",
       "      <td>0</td>\n",
       "      <td>0</td>\n",
       "      <td>0</td>\n",
       "      <td>0</td>\n",
       "      <td>0</td>\n",
       "      <td>0</td>\n",
       "      <td>1</td>\n",
       "    </tr>\n",
       "    <tr>\n",
       "      <th>1</th>\n",
       "      <td>2</td>\n",
       "      <td>1.0</td>\n",
       "      <td>1</td>\n",
       "      <td>1</td>\n",
       "      <td>38.0</td>\n",
       "      <td>1</td>\n",
       "      <td>0</td>\n",
       "      <td>PC 17599</td>\n",
       "      <td>4.266662</td>\n",
       "      <td>2</td>\n",
       "      <td>...</td>\n",
       "      <td>0</td>\n",
       "      <td>0</td>\n",
       "      <td>0</td>\n",
       "      <td>1</td>\n",
       "      <td>0</td>\n",
       "      <td>0</td>\n",
       "      <td>0</td>\n",
       "      <td>0</td>\n",
       "      <td>0</td>\n",
       "      <td>0</td>\n",
       "    </tr>\n",
       "    <tr>\n",
       "      <th>2</th>\n",
       "      <td>3</td>\n",
       "      <td>1.0</td>\n",
       "      <td>3</td>\n",
       "      <td>1</td>\n",
       "      <td>26.0</td>\n",
       "      <td>0</td>\n",
       "      <td>0</td>\n",
       "      <td>STON/O2. 3101282</td>\n",
       "      <td>2.070022</td>\n",
       "      <td>1</td>\n",
       "      <td>...</td>\n",
       "      <td>1</td>\n",
       "      <td>0</td>\n",
       "      <td>0</td>\n",
       "      <td>0</td>\n",
       "      <td>0</td>\n",
       "      <td>0</td>\n",
       "      <td>0</td>\n",
       "      <td>0</td>\n",
       "      <td>0</td>\n",
       "      <td>1</td>\n",
       "    </tr>\n",
       "    <tr>\n",
       "      <th>3</th>\n",
       "      <td>4</td>\n",
       "      <td>1.0</td>\n",
       "      <td>1</td>\n",
       "      <td>1</td>\n",
       "      <td>35.0</td>\n",
       "      <td>1</td>\n",
       "      <td>0</td>\n",
       "      <td>113803</td>\n",
       "      <td>3.972177</td>\n",
       "      <td>2</td>\n",
       "      <td>...</td>\n",
       "      <td>1</td>\n",
       "      <td>0</td>\n",
       "      <td>0</td>\n",
       "      <td>1</td>\n",
       "      <td>0</td>\n",
       "      <td>0</td>\n",
       "      <td>0</td>\n",
       "      <td>0</td>\n",
       "      <td>0</td>\n",
       "      <td>0</td>\n",
       "    </tr>\n",
       "    <tr>\n",
       "      <th>4</th>\n",
       "      <td>5</td>\n",
       "      <td>0.0</td>\n",
       "      <td>3</td>\n",
       "      <td>0</td>\n",
       "      <td>35.0</td>\n",
       "      <td>0</td>\n",
       "      <td>0</td>\n",
       "      <td>373450</td>\n",
       "      <td>2.085672</td>\n",
       "      <td>1</td>\n",
       "      <td>...</td>\n",
       "      <td>1</td>\n",
       "      <td>0</td>\n",
       "      <td>0</td>\n",
       "      <td>0</td>\n",
       "      <td>0</td>\n",
       "      <td>0</td>\n",
       "      <td>0</td>\n",
       "      <td>0</td>\n",
       "      <td>0</td>\n",
       "      <td>1</td>\n",
       "    </tr>\n",
       "    <tr>\n",
       "      <th>5</th>\n",
       "      <td>6</td>\n",
       "      <td>0.0</td>\n",
       "      <td>3</td>\n",
       "      <td>0</td>\n",
       "      <td>25.0</td>\n",
       "      <td>0</td>\n",
       "      <td>0</td>\n",
       "      <td>330877</td>\n",
       "      <td>2.135148</td>\n",
       "      <td>1</td>\n",
       "      <td>...</td>\n",
       "      <td>0</td>\n",
       "      <td>0</td>\n",
       "      <td>0</td>\n",
       "      <td>0</td>\n",
       "      <td>0</td>\n",
       "      <td>0</td>\n",
       "      <td>0</td>\n",
       "      <td>0</td>\n",
       "      <td>0</td>\n",
       "      <td>1</td>\n",
       "    </tr>\n",
       "    <tr>\n",
       "      <th>6</th>\n",
       "      <td>7</td>\n",
       "      <td>0.0</td>\n",
       "      <td>1</td>\n",
       "      <td>0</td>\n",
       "      <td>54.0</td>\n",
       "      <td>0</td>\n",
       "      <td>0</td>\n",
       "      <td>17463</td>\n",
       "      <td>3.948596</td>\n",
       "      <td>1</td>\n",
       "      <td>...</td>\n",
       "      <td>1</td>\n",
       "      <td>0</td>\n",
       "      <td>0</td>\n",
       "      <td>0</td>\n",
       "      <td>0</td>\n",
       "      <td>1</td>\n",
       "      <td>0</td>\n",
       "      <td>0</td>\n",
       "      <td>0</td>\n",
       "      <td>0</td>\n",
       "    </tr>\n",
       "    <tr>\n",
       "      <th>7</th>\n",
       "      <td>8</td>\n",
       "      <td>0.0</td>\n",
       "      <td>3</td>\n",
       "      <td>0</td>\n",
       "      <td>2.0</td>\n",
       "      <td>3</td>\n",
       "      <td>1</td>\n",
       "      <td>349909</td>\n",
       "      <td>3.048088</td>\n",
       "      <td>5</td>\n",
       "      <td>...</td>\n",
       "      <td>1</td>\n",
       "      <td>0</td>\n",
       "      <td>0</td>\n",
       "      <td>0</td>\n",
       "      <td>0</td>\n",
       "      <td>0</td>\n",
       "      <td>0</td>\n",
       "      <td>0</td>\n",
       "      <td>0</td>\n",
       "      <td>1</td>\n",
       "    </tr>\n",
       "    <tr>\n",
       "      <th>8</th>\n",
       "      <td>9</td>\n",
       "      <td>1.0</td>\n",
       "      <td>3</td>\n",
       "      <td>1</td>\n",
       "      <td>27.0</td>\n",
       "      <td>0</td>\n",
       "      <td>2</td>\n",
       "      <td>347742</td>\n",
       "      <td>2.409941</td>\n",
       "      <td>3</td>\n",
       "      <td>...</td>\n",
       "      <td>1</td>\n",
       "      <td>0</td>\n",
       "      <td>0</td>\n",
       "      <td>0</td>\n",
       "      <td>0</td>\n",
       "      <td>0</td>\n",
       "      <td>0</td>\n",
       "      <td>0</td>\n",
       "      <td>0</td>\n",
       "      <td>1</td>\n",
       "    </tr>\n",
       "    <tr>\n",
       "      <th>9</th>\n",
       "      <td>10</td>\n",
       "      <td>1.0</td>\n",
       "      <td>2</td>\n",
       "      <td>1</td>\n",
       "      <td>14.0</td>\n",
       "      <td>1</td>\n",
       "      <td>0</td>\n",
       "      <td>237736</td>\n",
       "      <td>3.403555</td>\n",
       "      <td>2</td>\n",
       "      <td>...</td>\n",
       "      <td>0</td>\n",
       "      <td>0</td>\n",
       "      <td>0</td>\n",
       "      <td>0</td>\n",
       "      <td>0</td>\n",
       "      <td>0</td>\n",
       "      <td>0</td>\n",
       "      <td>0</td>\n",
       "      <td>0</td>\n",
       "      <td>1</td>\n",
       "    </tr>\n",
       "  </tbody>\n",
       "</table>\n",
       "<p>10 rows × 30 columns</p>\n",
       "</div>"
      ],
      "text/plain": [
       "   PassengerId  Survived  Pclass  Sex   Age  SibSp  Parch            Ticket  \\\n",
       "0            1       0.0       3    0  22.0      1      0         A/5 21171   \n",
       "1            2       1.0       1    1  38.0      1      0          PC 17599   \n",
       "2            3       1.0       3    1  26.0      0      0  STON/O2. 3101282   \n",
       "3            4       1.0       1    1  35.0      1      0            113803   \n",
       "4            5       0.0       3    0  35.0      0      0            373450   \n",
       "5            6       0.0       3    0  25.0      0      0            330877   \n",
       "6            7       0.0       1    0  54.0      0      0             17463   \n",
       "7            8       0.0       3    0   2.0      3      1            349909   \n",
       "8            9       1.0       3    1  27.0      0      2            347742   \n",
       "9           10       1.0       2    1  14.0      1      0            237736   \n",
       "\n",
       "       Fare  Fsize  ...  Em_S  Cabin_A  Cabin_B  Cabin_C  Cabin_D  Cabin_E  \\\n",
       "0  1.981001      2  ...     1        0        0        0        0        0   \n",
       "1  4.266662      2  ...     0        0        0        1        0        0   \n",
       "2  2.070022      1  ...     1        0        0        0        0        0   \n",
       "3  3.972177      2  ...     1        0        0        1        0        0   \n",
       "4  2.085672      1  ...     1        0        0        0        0        0   \n",
       "5  2.135148      1  ...     0        0        0        0        0        0   \n",
       "6  3.948596      1  ...     1        0        0        0        0        1   \n",
       "7  3.048088      5  ...     1        0        0        0        0        0   \n",
       "8  2.409941      3  ...     1        0        0        0        0        0   \n",
       "9  3.403555      2  ...     0        0        0        0        0        0   \n",
       "\n",
       "   Cabin_F  Cabin_G  Cabin_T  Cabin_X  \n",
       "0        0        0        0        1  \n",
       "1        0        0        0        0  \n",
       "2        0        0        0        1  \n",
       "3        0        0        0        0  \n",
       "4        0        0        0        1  \n",
       "5        0        0        0        1  \n",
       "6        0        0        0        0  \n",
       "7        0        0        0        1  \n",
       "8        0        0        0        1  \n",
       "9        0        0        0        1  \n",
       "\n",
       "[10 rows x 30 columns]"
      ]
     },
     "execution_count": 62,
     "metadata": {},
     "output_type": "execute_result"
    }
   ],
   "source": [
    "dataset.head(10)"
   ]
  },
  {
   "cell_type": "code",
   "execution_count": 63,
   "id": "8efa092d",
   "metadata": {
    "execution": {
     "iopub.execute_input": "2021-10-04T11:26:52.673244Z",
     "iopub.status.busy": "2021-10-04T11:26:52.672608Z",
     "iopub.status.idle": "2021-10-04T11:26:52.677909Z",
     "shell.execute_reply": "2021-10-04T11:26:52.678444Z",
     "shell.execute_reply.started": "2021-10-04T10:02:30.431131Z"
    },
    "papermill": {
     "duration": 0.095993,
     "end_time": "2021-10-04T11:26:52.678600",
     "exception": false,
     "start_time": "2021-10-04T11:26:52.582607",
     "status": "completed"
    },
    "tags": []
   },
   "outputs": [
    {
     "data": {
      "text/plain": [
       "0           A/5 21171\n",
       "1            PC 17599\n",
       "2    STON/O2. 3101282\n",
       "3              113803\n",
       "4              373450\n",
       "Name: Ticket, dtype: object"
      ]
     },
     "execution_count": 63,
     "metadata": {},
     "output_type": "execute_result"
    }
   ],
   "source": [
    "dataset[\"Ticket\"].head()"
   ]
  },
  {
   "cell_type": "code",
   "execution_count": 64,
   "id": "96bdc1da",
   "metadata": {
    "execution": {
     "iopub.execute_input": "2021-10-04T11:26:52.860643Z",
     "iopub.status.busy": "2021-10-04T11:26:52.859874Z",
     "iopub.status.idle": "2021-10-04T11:26:52.863515Z",
     "shell.execute_reply": "2021-10-04T11:26:52.862937Z",
     "shell.execute_reply.started": "2021-10-04T10:02:30.444525Z"
    },
    "papermill": {
     "duration": 0.098528,
     "end_time": "2021-10-04T11:26:52.863643",
     "exception": false,
     "start_time": "2021-10-04T11:26:52.765115",
     "status": "completed"
    },
    "tags": []
   },
   "outputs": [
    {
     "data": {
      "text/plain": [
       "0        A5\n",
       "1        PC\n",
       "2    STONO2\n",
       "3         X\n",
       "4         X\n",
       "Name: Ticket, dtype: object"
      ]
     },
     "execution_count": 64,
     "metadata": {},
     "output_type": "execute_result"
    }
   ],
   "source": [
    "Ticket=[]\n",
    "for i in list(dataset.Ticket):\n",
    "    if not i.isdigit():\n",
    "        Ticket.append(i.replace(\".\",\"\").replace(\"/\",\"\").strip().split(' ')[0])\n",
    "    else:\n",
    "        Ticket.append(\"X\")\n",
    "        \n",
    "dataset[\"Ticket\"]=Ticket\n",
    "dataset[\"Ticket\"].head()"
   ]
  },
  {
   "cell_type": "code",
   "execution_count": 65,
   "id": "3a499153",
   "metadata": {
    "execution": {
     "iopub.execute_input": "2021-10-04T11:26:53.043374Z",
     "iopub.status.busy": "2021-10-04T11:26:53.042773Z",
     "iopub.status.idle": "2021-10-04T11:26:53.048584Z",
     "shell.execute_reply": "2021-10-04T11:26:53.049058Z",
     "shell.execute_reply.started": "2021-10-04T10:02:30.462228Z"
    },
    "papermill": {
     "duration": 0.097173,
     "end_time": "2021-10-04T11:26:53.049218",
     "exception": false,
     "start_time": "2021-10-04T11:26:52.952045",
     "status": "completed"
    },
    "tags": []
   },
   "outputs": [],
   "source": [
    "dataset=pd.get_dummies(dataset, columns=[\"Ticket\"], prefix=\"T\")"
   ]
  },
  {
   "cell_type": "code",
   "execution_count": 66,
   "id": "c87ce7a0",
   "metadata": {
    "execution": {
     "iopub.execute_input": "2021-10-04T11:26:53.226553Z",
     "iopub.status.busy": "2021-10-04T11:26:53.225883Z",
     "iopub.status.idle": "2021-10-04T11:26:53.243683Z",
     "shell.execute_reply": "2021-10-04T11:26:53.243253Z",
     "shell.execute_reply.started": "2021-10-04T10:02:30.480419Z"
    },
    "papermill": {
     "duration": 0.10778,
     "end_time": "2021-10-04T11:26:53.243834",
     "exception": false,
     "start_time": "2021-10-04T11:26:53.136054",
     "status": "completed"
    },
    "tags": []
   },
   "outputs": [
    {
     "data": {
      "text/html": [
       "<div>\n",
       "<style scoped>\n",
       "    .dataframe tbody tr th:only-of-type {\n",
       "        vertical-align: middle;\n",
       "    }\n",
       "\n",
       "    .dataframe tbody tr th {\n",
       "        vertical-align: top;\n",
       "    }\n",
       "\n",
       "    .dataframe thead th {\n",
       "        text-align: right;\n",
       "    }\n",
       "</style>\n",
       "<table border=\"1\" class=\"dataframe\">\n",
       "  <thead>\n",
       "    <tr style=\"text-align: right;\">\n",
       "      <th></th>\n",
       "      <th>PassengerId</th>\n",
       "      <th>Survived</th>\n",
       "      <th>Pclass</th>\n",
       "      <th>Sex</th>\n",
       "      <th>Age</th>\n",
       "      <th>SibSp</th>\n",
       "      <th>Parch</th>\n",
       "      <th>Fare</th>\n",
       "      <th>Fsize</th>\n",
       "      <th>Single</th>\n",
       "      <th>...</th>\n",
       "      <th>T_SOTONO2</th>\n",
       "      <th>T_SOTONOQ</th>\n",
       "      <th>T_SP</th>\n",
       "      <th>T_STONO</th>\n",
       "      <th>T_STONO2</th>\n",
       "      <th>T_STONOQ</th>\n",
       "      <th>T_SWPP</th>\n",
       "      <th>T_WC</th>\n",
       "      <th>T_WEP</th>\n",
       "      <th>T_X</th>\n",
       "    </tr>\n",
       "  </thead>\n",
       "  <tbody>\n",
       "    <tr>\n",
       "      <th>0</th>\n",
       "      <td>1</td>\n",
       "      <td>0.0</td>\n",
       "      <td>3</td>\n",
       "      <td>0</td>\n",
       "      <td>22.0</td>\n",
       "      <td>1</td>\n",
       "      <td>0</td>\n",
       "      <td>1.981001</td>\n",
       "      <td>2</td>\n",
       "      <td>0</td>\n",
       "      <td>...</td>\n",
       "      <td>0</td>\n",
       "      <td>0</td>\n",
       "      <td>0</td>\n",
       "      <td>0</td>\n",
       "      <td>0</td>\n",
       "      <td>0</td>\n",
       "      <td>0</td>\n",
       "      <td>0</td>\n",
       "      <td>0</td>\n",
       "      <td>0</td>\n",
       "    </tr>\n",
       "    <tr>\n",
       "      <th>1</th>\n",
       "      <td>2</td>\n",
       "      <td>1.0</td>\n",
       "      <td>1</td>\n",
       "      <td>1</td>\n",
       "      <td>38.0</td>\n",
       "      <td>1</td>\n",
       "      <td>0</td>\n",
       "      <td>4.266662</td>\n",
       "      <td>2</td>\n",
       "      <td>0</td>\n",
       "      <td>...</td>\n",
       "      <td>0</td>\n",
       "      <td>0</td>\n",
       "      <td>0</td>\n",
       "      <td>0</td>\n",
       "      <td>0</td>\n",
       "      <td>0</td>\n",
       "      <td>0</td>\n",
       "      <td>0</td>\n",
       "      <td>0</td>\n",
       "      <td>0</td>\n",
       "    </tr>\n",
       "    <tr>\n",
       "      <th>2</th>\n",
       "      <td>3</td>\n",
       "      <td>1.0</td>\n",
       "      <td>3</td>\n",
       "      <td>1</td>\n",
       "      <td>26.0</td>\n",
       "      <td>0</td>\n",
       "      <td>0</td>\n",
       "      <td>2.070022</td>\n",
       "      <td>1</td>\n",
       "      <td>1</td>\n",
       "      <td>...</td>\n",
       "      <td>0</td>\n",
       "      <td>0</td>\n",
       "      <td>0</td>\n",
       "      <td>0</td>\n",
       "      <td>1</td>\n",
       "      <td>0</td>\n",
       "      <td>0</td>\n",
       "      <td>0</td>\n",
       "      <td>0</td>\n",
       "      <td>0</td>\n",
       "    </tr>\n",
       "    <tr>\n",
       "      <th>3</th>\n",
       "      <td>4</td>\n",
       "      <td>1.0</td>\n",
       "      <td>1</td>\n",
       "      <td>1</td>\n",
       "      <td>35.0</td>\n",
       "      <td>1</td>\n",
       "      <td>0</td>\n",
       "      <td>3.972177</td>\n",
       "      <td>2</td>\n",
       "      <td>0</td>\n",
       "      <td>...</td>\n",
       "      <td>0</td>\n",
       "      <td>0</td>\n",
       "      <td>0</td>\n",
       "      <td>0</td>\n",
       "      <td>0</td>\n",
       "      <td>0</td>\n",
       "      <td>0</td>\n",
       "      <td>0</td>\n",
       "      <td>0</td>\n",
       "      <td>1</td>\n",
       "    </tr>\n",
       "    <tr>\n",
       "      <th>4</th>\n",
       "      <td>5</td>\n",
       "      <td>0.0</td>\n",
       "      <td>3</td>\n",
       "      <td>0</td>\n",
       "      <td>35.0</td>\n",
       "      <td>0</td>\n",
       "      <td>0</td>\n",
       "      <td>2.085672</td>\n",
       "      <td>1</td>\n",
       "      <td>1</td>\n",
       "      <td>...</td>\n",
       "      <td>0</td>\n",
       "      <td>0</td>\n",
       "      <td>0</td>\n",
       "      <td>0</td>\n",
       "      <td>0</td>\n",
       "      <td>0</td>\n",
       "      <td>0</td>\n",
       "      <td>0</td>\n",
       "      <td>0</td>\n",
       "      <td>1</td>\n",
       "    </tr>\n",
       "  </tbody>\n",
       "</table>\n",
       "<p>5 rows × 66 columns</p>\n",
       "</div>"
      ],
      "text/plain": [
       "   PassengerId  Survived  Pclass  Sex   Age  SibSp  Parch      Fare  Fsize  \\\n",
       "0            1       0.0       3    0  22.0      1      0  1.981001      2   \n",
       "1            2       1.0       1    1  38.0      1      0  4.266662      2   \n",
       "2            3       1.0       3    1  26.0      0      0  2.070022      1   \n",
       "3            4       1.0       1    1  35.0      1      0  3.972177      2   \n",
       "4            5       0.0       3    0  35.0      0      0  2.085672      1   \n",
       "\n",
       "   Single  ...  T_SOTONO2  T_SOTONOQ  T_SP  T_STONO  T_STONO2  T_STONOQ  \\\n",
       "0       0  ...          0          0     0        0         0         0   \n",
       "1       0  ...          0          0     0        0         0         0   \n",
       "2       1  ...          0          0     0        0         1         0   \n",
       "3       0  ...          0          0     0        0         0         0   \n",
       "4       1  ...          0          0     0        0         0         0   \n",
       "\n",
       "   T_SWPP  T_WC  T_WEP  T_X  \n",
       "0       0     0      0    0  \n",
       "1       0     0      0    0  \n",
       "2       0     0      0    0  \n",
       "3       0     0      0    1  \n",
       "4       0     0      0    1  \n",
       "\n",
       "[5 rows x 66 columns]"
      ]
     },
     "execution_count": 66,
     "metadata": {},
     "output_type": "execute_result"
    }
   ],
   "source": [
    "dataset.head()"
   ]
  },
  {
   "cell_type": "code",
   "execution_count": 67,
   "id": "6066b4e6",
   "metadata": {
    "execution": {
     "iopub.execute_input": "2021-10-04T11:26:53.422657Z",
     "iopub.status.busy": "2021-10-04T11:26:53.422017Z",
     "iopub.status.idle": "2021-10-04T11:26:53.429549Z",
     "shell.execute_reply": "2021-10-04T11:26:53.430027Z",
     "shell.execute_reply.started": "2021-10-04T10:02:30.509785Z"
    },
    "papermill": {
     "duration": 0.099895,
     "end_time": "2021-10-04T11:26:53.430214",
     "exception": false,
     "start_time": "2021-10-04T11:26:53.330319",
     "status": "completed"
    },
    "tags": []
   },
   "outputs": [],
   "source": [
    "dataset[\"Pclass\"] = dataset[\"Pclass\"].astype(\"category\")\n",
    "dataset=pd.get_dummies(dataset, columns = [\"Pclass\"], prefix=\"Pc\")"
   ]
  },
  {
   "cell_type": "code",
   "execution_count": 68,
   "id": "77d3d73f",
   "metadata": {
    "execution": {
     "iopub.execute_input": "2021-10-04T11:26:53.609097Z",
     "iopub.status.busy": "2021-10-04T11:26:53.608530Z",
     "iopub.status.idle": "2021-10-04T11:26:53.613734Z",
     "shell.execute_reply": "2021-10-04T11:26:53.614227Z",
     "shell.execute_reply.started": "2021-10-04T10:02:30.523426Z"
    },
    "papermill": {
     "duration": 0.09525,
     "end_time": "2021-10-04T11:26:53.614393",
     "exception": false,
     "start_time": "2021-10-04T11:26:53.519143",
     "status": "completed"
    },
    "tags": []
   },
   "outputs": [],
   "source": [
    "dataset.drop(labels = [\"PassengerId\"], axis=1, inplace=True)"
   ]
  },
  {
   "cell_type": "code",
   "execution_count": 69,
   "id": "14f4041b",
   "metadata": {
    "execution": {
     "iopub.execute_input": "2021-10-04T11:26:53.794773Z",
     "iopub.status.busy": "2021-10-04T11:26:53.794159Z",
     "iopub.status.idle": "2021-10-04T11:26:53.808413Z",
     "shell.execute_reply": "2021-10-04T11:26:53.807914Z",
     "shell.execute_reply.started": "2021-10-04T10:02:30.536275Z"
    },
    "papermill": {
     "duration": 0.107668,
     "end_time": "2021-10-04T11:26:53.808543",
     "exception": false,
     "start_time": "2021-10-04T11:26:53.700875",
     "status": "completed"
    },
    "tags": []
   },
   "outputs": [
    {
     "data": {
      "text/html": [
       "<div>\n",
       "<style scoped>\n",
       "    .dataframe tbody tr th:only-of-type {\n",
       "        vertical-align: middle;\n",
       "    }\n",
       "\n",
       "    .dataframe tbody tr th {\n",
       "        vertical-align: top;\n",
       "    }\n",
       "\n",
       "    .dataframe thead th {\n",
       "        text-align: right;\n",
       "    }\n",
       "</style>\n",
       "<table border=\"1\" class=\"dataframe\">\n",
       "  <thead>\n",
       "    <tr style=\"text-align: right;\">\n",
       "      <th></th>\n",
       "      <th>Survived</th>\n",
       "      <th>Sex</th>\n",
       "      <th>Age</th>\n",
       "      <th>SibSp</th>\n",
       "      <th>Parch</th>\n",
       "      <th>Fare</th>\n",
       "      <th>Fsize</th>\n",
       "      <th>Single</th>\n",
       "      <th>SmallF</th>\n",
       "      <th>MedF</th>\n",
       "      <th>...</th>\n",
       "      <th>T_STONO</th>\n",
       "      <th>T_STONO2</th>\n",
       "      <th>T_STONOQ</th>\n",
       "      <th>T_SWPP</th>\n",
       "      <th>T_WC</th>\n",
       "      <th>T_WEP</th>\n",
       "      <th>T_X</th>\n",
       "      <th>Pc_1</th>\n",
       "      <th>Pc_2</th>\n",
       "      <th>Pc_3</th>\n",
       "    </tr>\n",
       "  </thead>\n",
       "  <tbody>\n",
       "    <tr>\n",
       "      <th>0</th>\n",
       "      <td>0.0</td>\n",
       "      <td>0</td>\n",
       "      <td>22.0</td>\n",
       "      <td>1</td>\n",
       "      <td>0</td>\n",
       "      <td>1.981001</td>\n",
       "      <td>2</td>\n",
       "      <td>0</td>\n",
       "      <td>1</td>\n",
       "      <td>0</td>\n",
       "      <td>...</td>\n",
       "      <td>0</td>\n",
       "      <td>0</td>\n",
       "      <td>0</td>\n",
       "      <td>0</td>\n",
       "      <td>0</td>\n",
       "      <td>0</td>\n",
       "      <td>0</td>\n",
       "      <td>0</td>\n",
       "      <td>0</td>\n",
       "      <td>1</td>\n",
       "    </tr>\n",
       "    <tr>\n",
       "      <th>1</th>\n",
       "      <td>1.0</td>\n",
       "      <td>1</td>\n",
       "      <td>38.0</td>\n",
       "      <td>1</td>\n",
       "      <td>0</td>\n",
       "      <td>4.266662</td>\n",
       "      <td>2</td>\n",
       "      <td>0</td>\n",
       "      <td>1</td>\n",
       "      <td>0</td>\n",
       "      <td>...</td>\n",
       "      <td>0</td>\n",
       "      <td>0</td>\n",
       "      <td>0</td>\n",
       "      <td>0</td>\n",
       "      <td>0</td>\n",
       "      <td>0</td>\n",
       "      <td>0</td>\n",
       "      <td>1</td>\n",
       "      <td>0</td>\n",
       "      <td>0</td>\n",
       "    </tr>\n",
       "    <tr>\n",
       "      <th>2</th>\n",
       "      <td>1.0</td>\n",
       "      <td>1</td>\n",
       "      <td>26.0</td>\n",
       "      <td>0</td>\n",
       "      <td>0</td>\n",
       "      <td>2.070022</td>\n",
       "      <td>1</td>\n",
       "      <td>1</td>\n",
       "      <td>0</td>\n",
       "      <td>0</td>\n",
       "      <td>...</td>\n",
       "      <td>0</td>\n",
       "      <td>1</td>\n",
       "      <td>0</td>\n",
       "      <td>0</td>\n",
       "      <td>0</td>\n",
       "      <td>0</td>\n",
       "      <td>0</td>\n",
       "      <td>0</td>\n",
       "      <td>0</td>\n",
       "      <td>1</td>\n",
       "    </tr>\n",
       "    <tr>\n",
       "      <th>3</th>\n",
       "      <td>1.0</td>\n",
       "      <td>1</td>\n",
       "      <td>35.0</td>\n",
       "      <td>1</td>\n",
       "      <td>0</td>\n",
       "      <td>3.972177</td>\n",
       "      <td>2</td>\n",
       "      <td>0</td>\n",
       "      <td>1</td>\n",
       "      <td>0</td>\n",
       "      <td>...</td>\n",
       "      <td>0</td>\n",
       "      <td>0</td>\n",
       "      <td>0</td>\n",
       "      <td>0</td>\n",
       "      <td>0</td>\n",
       "      <td>0</td>\n",
       "      <td>1</td>\n",
       "      <td>1</td>\n",
       "      <td>0</td>\n",
       "      <td>0</td>\n",
       "    </tr>\n",
       "    <tr>\n",
       "      <th>4</th>\n",
       "      <td>0.0</td>\n",
       "      <td>0</td>\n",
       "      <td>35.0</td>\n",
       "      <td>0</td>\n",
       "      <td>0</td>\n",
       "      <td>2.085672</td>\n",
       "      <td>1</td>\n",
       "      <td>1</td>\n",
       "      <td>0</td>\n",
       "      <td>0</td>\n",
       "      <td>...</td>\n",
       "      <td>0</td>\n",
       "      <td>0</td>\n",
       "      <td>0</td>\n",
       "      <td>0</td>\n",
       "      <td>0</td>\n",
       "      <td>0</td>\n",
       "      <td>1</td>\n",
       "      <td>0</td>\n",
       "      <td>0</td>\n",
       "      <td>1</td>\n",
       "    </tr>\n",
       "  </tbody>\n",
       "</table>\n",
       "<p>5 rows × 67 columns</p>\n",
       "</div>"
      ],
      "text/plain": [
       "   Survived  Sex   Age  SibSp  Parch      Fare  Fsize  Single  SmallF  MedF  \\\n",
       "0       0.0    0  22.0      1      0  1.981001      2       0       1     0   \n",
       "1       1.0    1  38.0      1      0  4.266662      2       0       1     0   \n",
       "2       1.0    1  26.0      0      0  2.070022      1       1       0     0   \n",
       "3       1.0    1  35.0      1      0  3.972177      2       0       1     0   \n",
       "4       0.0    0  35.0      0      0  2.085672      1       1       0     0   \n",
       "\n",
       "   ...  T_STONO  T_STONO2  T_STONOQ  T_SWPP  T_WC  T_WEP  T_X  Pc_1  Pc_2  \\\n",
       "0  ...        0         0         0       0     0      0    0     0     0   \n",
       "1  ...        0         0         0       0     0      0    0     1     0   \n",
       "2  ...        0         1         0       0     0      0    0     0     0   \n",
       "3  ...        0         0         0       0     0      0    1     1     0   \n",
       "4  ...        0         0         0       0     0      0    1     0     0   \n",
       "\n",
       "   Pc_3  \n",
       "0     1  \n",
       "1     0  \n",
       "2     1  \n",
       "3     0  \n",
       "4     1  \n",
       "\n",
       "[5 rows x 67 columns]"
      ]
     },
     "execution_count": 69,
     "metadata": {},
     "output_type": "execute_result"
    }
   ],
   "source": [
    "dataset.head()"
   ]
  },
  {
   "cell_type": "markdown",
   "id": "8d9b020a",
   "metadata": {
    "papermill": {
     "duration": 0.087103,
     "end_time": "2021-10-04T11:26:53.983773",
     "exception": false,
     "start_time": "2021-10-04T11:26:53.896670",
     "status": "completed"
    },
    "tags": []
   },
   "source": [
    "# Modeling"
   ]
  },
  {
   "cell_type": "code",
   "execution_count": 70,
   "id": "240368f5",
   "metadata": {
    "execution": {
     "iopub.execute_input": "2021-10-04T11:26:54.164687Z",
     "iopub.status.busy": "2021-10-04T11:26:54.164134Z",
     "iopub.status.idle": "2021-10-04T11:26:54.175752Z",
     "shell.execute_reply": "2021-10-04T11:26:54.176190Z",
     "shell.execute_reply.started": "2021-10-04T10:02:30.570974Z"
    },
    "papermill": {
     "duration": 0.105124,
     "end_time": "2021-10-04T11:26:54.176358",
     "exception": false,
     "start_time": "2021-10-04T11:26:54.071234",
     "status": "completed"
    },
    "tags": []
   },
   "outputs": [
    {
     "name": "stderr",
     "output_type": "stream",
     "text": [
      "/opt/conda/lib/python3.7/site-packages/pandas/core/frame.py:4908: SettingWithCopyWarning: \n",
      "A value is trying to be set on a copy of a slice from a DataFrame\n",
      "\n",
      "See the caveats in the documentation: https://pandas.pydata.org/pandas-docs/stable/user_guide/indexing.html#returning-a-view-versus-a-copy\n",
      "  errors=errors,\n"
     ]
    }
   ],
   "source": [
    "train=dataset[:train_len]\n",
    "test=dataset[train_len:]\n",
    "test.drop(labels=['Survived'], axis=1, inplace=True)"
   ]
  },
  {
   "cell_type": "code",
   "execution_count": 71,
   "id": "0755885f",
   "metadata": {
    "execution": {
     "iopub.execute_input": "2021-10-04T11:26:54.358816Z",
     "iopub.status.busy": "2021-10-04T11:26:54.355162Z",
     "iopub.status.idle": "2021-10-04T11:26:54.362469Z",
     "shell.execute_reply": "2021-10-04T11:26:54.363281Z",
     "shell.execute_reply.started": "2021-10-04T10:02:30.585265Z"
    },
    "papermill": {
     "duration": 0.098636,
     "end_time": "2021-10-04T11:26:54.363504",
     "exception": false,
     "start_time": "2021-10-04T11:26:54.264868",
     "status": "completed"
    },
    "tags": []
   },
   "outputs": [
    {
     "name": "stderr",
     "output_type": "stream",
     "text": [
      "/opt/conda/lib/python3.7/site-packages/ipykernel_launcher.py:1: SettingWithCopyWarning: \n",
      "A value is trying to be set on a copy of a slice from a DataFrame.\n",
      "Try using .loc[row_indexer,col_indexer] = value instead\n",
      "\n",
      "See the caveats in the documentation: https://pandas.pydata.org/pandas-docs/stable/user_guide/indexing.html#returning-a-view-versus-a-copy\n",
      "  \"\"\"Entry point for launching an IPython kernel.\n"
     ]
    }
   ],
   "source": [
    "train[\"Survived\"]= train[\"Survived\"].astype(int)\n",
    "Y_train=train[\"Survived\"]\n",
    "X_train = train.drop(labels =['Survived'], axis=1)"
   ]
  },
  {
   "cell_type": "code",
   "execution_count": 72,
   "id": "c6dc9737",
   "metadata": {
    "execution": {
     "iopub.execute_input": "2021-10-04T11:26:54.543825Z",
     "iopub.status.busy": "2021-10-04T11:26:54.543245Z",
     "iopub.status.idle": "2021-10-04T11:26:54.546223Z",
     "shell.execute_reply": "2021-10-04T11:26:54.546747Z",
     "shell.execute_reply.started": "2021-10-04T10:02:30.597572Z"
    },
    "papermill": {
     "duration": 0.09396,
     "end_time": "2021-10-04T11:26:54.546905",
     "exception": false,
     "start_time": "2021-10-04T11:26:54.452945",
     "status": "completed"
    },
    "tags": []
   },
   "outputs": [],
   "source": [
    "kfold=StratifiedKFold(n_splits=10)"
   ]
  },
  {
   "cell_type": "code",
   "execution_count": 73,
   "id": "fdbe0032",
   "metadata": {
    "execution": {
     "iopub.execute_input": "2021-10-04T11:26:54.724372Z",
     "iopub.status.busy": "2021-10-04T11:26:54.723724Z",
     "iopub.status.idle": "2021-10-04T11:27:04.762258Z",
     "shell.execute_reply": "2021-10-04T11:27:04.761684Z",
     "shell.execute_reply.started": "2021-10-04T10:02:30.608893Z"
    },
    "papermill": {
     "duration": 10.128309,
     "end_time": "2021-10-04T11:27:04.762398",
     "exception": false,
     "start_time": "2021-10-04T11:26:54.634089",
     "status": "completed"
    },
    "tags": []
   },
   "outputs": [],
   "source": [
    "random_state=2\n",
    "classifiers=[]\n",
    "classifiers.append(SVC(random_state=random_state))\n",
    "classifiers.append(DecisionTreeClassifier(random_state=random_state))\n",
    "classifiers.append(AdaBoostClassifier(DecisionTreeClassifier(random_state=random_state), random_state=random_state, learning_rate=0.1))\n",
    "\n",
    "classifiers.append(RandomForestClassifier(random_state=random_state))\n",
    "classifiers.append(ExtraTreesClassifier(random_state=random_state))\n",
    "classifiers.append(GradientBoostingClassifier(random_state=random_state))\n",
    "classifiers.append(MLPClassifier(random_state=random_state))\n",
    "classifiers.append(KNeighborsClassifier())\n",
    "classifiers.append(LogisticRegression(random_state=random_state))\n",
    "classifiers.append(LinearDiscriminantAnalysis())\n",
    "\n",
    "cv_results=[]\n",
    "for classifier in classifiers:\n",
    "    cv_results.append(cross_val_score(classifier, X_train, y=Y_train, scoring=\"accuracy\", cv=kfold, n_jobs=4))\n",
    "    \n",
    "cv_means=[]\n",
    "cv_std=[]\n",
    "for cv_result in cv_results:\n",
    "    cv_means.append(cv_result.mean())\n",
    "    cv_std.append(cv_result.std())"
   ]
  },
  {
   "cell_type": "code",
   "execution_count": 74,
   "id": "18518338",
   "metadata": {
    "execution": {
     "iopub.execute_input": "2021-10-04T11:27:04.968618Z",
     "iopub.status.busy": "2021-10-04T11:27:04.941758Z",
     "iopub.status.idle": "2021-10-04T11:27:05.446339Z",
     "shell.execute_reply": "2021-10-04T11:27:05.445868Z",
     "shell.execute_reply.started": "2021-10-04T10:02:42.391224Z"
    },
    "papermill": {
     "duration": 0.596086,
     "end_time": "2021-10-04T11:27:05.446481",
     "exception": false,
     "start_time": "2021-10-04T11:27:04.850395",
     "status": "completed"
    },
    "tags": []
   },
   "outputs": [
    {
     "name": "stderr",
     "output_type": "stream",
     "text": [
      "/opt/conda/lib/python3.7/site-packages/seaborn/_decorators.py:43: FutureWarning: Pass the following variables as keyword args: x, y. From version 0.12, the only valid positional argument will be `data`, and passing other arguments without an explicit keyword will result in an error or misinterpretation.\n",
      "  FutureWarning\n"
     ]
    },
    {
     "data": {
      "image/png": "[encoded data removed]",
      "text/plain": [
       "<Figure size 432x288 with 1 Axes>"
      ]
     },
     "metadata": {},
     "output_type": "display_data"
    }
   ],
   "source": [
    "cv_res=pd.DataFrame({\"CrossValMeans\": cv_means, \"CrossValerrors\":cv_std,\"Algorithm\":\n",
    "                     [\"SVC\",\"DecisionTree\",\"AdaBoosts\",\"RandomForest\",\"ExtraTrees\",\"GradientBoosting\",\n",
    "                      \"MultipleLayerPerceptron\",\"KNeighbors\",\"LogisticRegression\",\n",
    "                      \"LinearDiscriminantAnalysis\"]})\n",
    "\n",
    "g=sns.barplot(\"CrossValMeans\",\"Algorithm\", data=cv_res, palette=\"Set3\",orient=\"h\", **{'xerr':cv_std})\n",
    "g.set_xlabel(\"Mean Accuracy\")\n",
    "g=g.set_title(\"Cross validation scores\")"
   ]
  },
  {
   "cell_type": "markdown",
   "id": "43b5e825",
   "metadata": {
    "papermill": {
     "duration": 0.083148,
     "end_time": "2021-10-04T11:27:05.614535",
     "exception": false,
     "start_time": "2021-10-04T11:27:05.531387",
     "status": "completed"
    },
    "tags": []
   },
   "source": [
    "logistic regression 만 그래프 안뜸,,"
   ]
  },
  {
   "cell_type": "code",
   "execution_count": 75,
   "id": "6a5383df",
   "metadata": {
    "execution": {
     "iopub.execute_input": "2021-10-04T11:27:05.785465Z",
     "iopub.status.busy": "2021-10-04T11:27:05.784881Z",
     "iopub.status.idle": "2021-10-04T11:27:12.181888Z",
     "shell.execute_reply": "2021-10-04T11:27:12.181098Z",
     "shell.execute_reply.started": "2021-10-04T10:02:43.037257Z"
    },
    "papermill": {
     "duration": 6.484161,
     "end_time": "2021-10-04T11:27:12.182092",
     "exception": false,
     "start_time": "2021-10-04T11:27:05.697931",
     "status": "completed"
    },
    "tags": []
   },
   "outputs": [
    {
     "name": "stdout",
     "output_type": "stream",
     "text": [
      "Fitting 10 folds for each of 112 candidates, totalling 1120 fits\n"
     ]
    },
    {
     "name": "stderr",
     "output_type": "stream",
     "text": [
      "[Parallel(n_jobs=4)]: Using backend LokyBackend with 4 concurrent workers.\n",
      "[Parallel(n_jobs=4)]: Done 200 tasks      | elapsed:    1.2s\n",
      "[Parallel(n_jobs=4)]: Done 1120 out of 1120 | elapsed:    6.4s finished\n"
     ]
    }
   ],
   "source": [
    "DTC=DecisionTreeClassifier()\n",
    "adaDTC= AdaBoostClassifier(DTC, random_state=7)\n",
    "ada_param_grid={\"base_estimator__criterion\" : [\"gini\", \"entropy\"],\n",
    "               \"base_estimator__splitter\":[\"best\", \"random\"],\n",
    "               \"algorithm\" : [\"SAMME\", 'SAMME.R'],\n",
    "               \"n_estimators\":[1,2],\n",
    "               \"learning_rate\":[0.0001,0.001,0.01,0.1,0.2,0.3,1.5]}\n",
    "\n",
    "gsadaDTC=GridSearchCV(adaDTC, param_grid=ada_param_grid, cv=kfold, scoring=\"accuracy\", n_jobs=4, verbose=1)\n",
    "gsadaDTC.fit(X_train, Y_train)\n",
    "\n",
    "ada_best=gsadaDTC.best_estimator_"
   ]
  },
  {
   "cell_type": "code",
   "execution_count": 76,
   "id": "c63835d4",
   "metadata": {
    "execution": {
     "iopub.execute_input": "2021-10-04T11:27:12.368401Z",
     "iopub.status.busy": "2021-10-04T11:27:12.367778Z",
     "iopub.status.idle": "2021-10-04T11:27:12.371622Z",
     "shell.execute_reply": "2021-10-04T11:27:12.371028Z",
     "shell.execute_reply.started": "2021-10-04T10:02:49.974573Z"
    },
    "papermill": {
     "duration": 0.09818,
     "end_time": "2021-10-04T11:27:12.371755",
     "exception": false,
     "start_time": "2021-10-04T11:27:12.273575",
     "status": "completed"
    },
    "tags": []
   },
   "outputs": [
    {
     "data": {
      "text/plain": [
       "0.8241317671092953"
      ]
     },
     "execution_count": 76,
     "metadata": {},
     "output_type": "execute_result"
    }
   ],
   "source": [
    "gsadaDTC.best_score_"
   ]
  },
  {
   "cell_type": "code",
   "execution_count": 77,
   "id": "31c1b7c8",
   "metadata": {
    "execution": {
     "iopub.execute_input": "2021-10-04T11:27:12.564272Z",
     "iopub.status.busy": "2021-10-04T11:27:12.563611Z",
     "iopub.status.idle": "2021-10-04T11:28:14.585315Z",
     "shell.execute_reply": "2021-10-04T11:28:14.585739Z",
     "shell.execute_reply.started": "2021-10-04T10:02:49.982975Z"
    },
    "papermill": {
     "duration": 62.12164,
     "end_time": "2021-10-04T11:28:14.585924",
     "exception": false,
     "start_time": "2021-10-04T11:27:12.464284",
     "status": "completed"
    },
    "tags": []
   },
   "outputs": [
    {
     "name": "stdout",
     "output_type": "stream",
     "text": [
      "Fitting 10 folds for each of 54 candidates, totalling 540 fits\n"
     ]
    },
    {
     "name": "stderr",
     "output_type": "stream",
     "text": [
      "[Parallel(n_jobs=4)]: Using backend LokyBackend with 4 concurrent workers.\n",
      "[Parallel(n_jobs=4)]: Done  42 tasks      | elapsed:    5.7s\n",
      "[Parallel(n_jobs=4)]: Done 192 tasks      | elapsed:   20.7s\n",
      "[Parallel(n_jobs=4)]: Done 442 tasks      | elapsed:   50.6s\n",
      "[Parallel(n_jobs=4)]: Done 540 out of 540 | elapsed:  1.0min finished\n"
     ]
    },
    {
     "data": {
      "text/plain": [
       "0.832035240040858"
      ]
     },
     "execution_count": 77,
     "metadata": {},
     "output_type": "execute_result"
    }
   ],
   "source": [
    "ExtC=ExtraTreesClassifier()\n",
    "\n",
    "ex_param_grid={\"max_depth\":[None],\n",
    "              \"max_features\":[1,3,10],\n",
    "               \"min_samples_split\":[2,3,10],\n",
    "              \"min_samples_leaf\":[1,3,10],\n",
    "              \"bootstrap\":[False],\n",
    "              \"n_estimators\":[100,300],\n",
    "              \"criterion\":[\"gini\"]}\n",
    "\n",
    "gsExtC=GridSearchCV(ExtC, param_grid=ex_param_grid, cv=kfold, scoring=\"accuracy\", n_jobs=4, verbose=1)\n",
    "gsExtC.fit(X_train,Y_train)\n",
    "\n",
    "ExtC_best=gsExtC.best_estimator_\n",
    "\n",
    "gsExtC.best_score_"
   ]
  },
  {
   "cell_type": "code",
   "execution_count": 78,
   "id": "4d676a72",
   "metadata": {
    "execution": {
     "iopub.execute_input": "2021-10-04T11:28:14.784896Z",
     "iopub.status.busy": "2021-10-04T11:28:14.783777Z",
     "iopub.status.idle": "2021-10-04T11:29:23.118364Z",
     "shell.execute_reply": "2021-10-04T11:29:23.118765Z",
     "shell.execute_reply.started": "2021-10-04T10:04:03.155855Z"
    },
    "papermill": {
     "duration": 68.434264,
     "end_time": "2021-10-04T11:29:23.118935",
     "exception": false,
     "start_time": "2021-10-04T11:28:14.684671",
     "status": "completed"
    },
    "tags": []
   },
   "outputs": [
    {
     "name": "stdout",
     "output_type": "stream",
     "text": [
      "Fitting 10 folds for each of 54 candidates, totalling 540 fits\n"
     ]
    },
    {
     "name": "stderr",
     "output_type": "stream",
     "text": [
      "[Parallel(n_jobs=4)]: Using backend LokyBackend with 4 concurrent workers.\n",
      "[Parallel(n_jobs=4)]: Done  42 tasks      | elapsed:    6.2s\n",
      "[Parallel(n_jobs=4)]: Done 192 tasks      | elapsed:   22.3s\n",
      "[Parallel(n_jobs=4)]: Done 442 tasks      | elapsed:   55.0s\n",
      "[Parallel(n_jobs=4)]: Done 540 out of 540 | elapsed:  1.1min finished\n"
     ]
    },
    {
     "data": {
      "text/plain": [
       "0.8320224719101124"
      ]
     },
     "execution_count": 78,
     "metadata": {},
     "output_type": "execute_result"
    }
   ],
   "source": [
    "RFC=RandomForestClassifier()\n",
    "\n",
    "rf_param_grid={\"max_depth\":[None],\n",
    "              \"max_features\":[1,3,10],\n",
    "               \"min_samples_split\":[2,3,10],\n",
    "              \"min_samples_leaf\":[1,3,10],\n",
    "              \"bootstrap\":[False],\n",
    "              \"n_estimators\":[100,300],\n",
    "              \"criterion\":[\"gini\"]}\n",
    "\n",
    "gsRFC=GridSearchCV(RFC,param_grid=rf_param_grid, cv=kfold, scoring=\"accuracy\", n_jobs=4, verbose=1)\n",
    "gsRFC.fit(X_train, Y_train)\n",
    "RFC_best=gsRFC.best_estimator_\n",
    "gsRFC.best_score_"
   ]
  },
  {
   "cell_type": "code",
   "execution_count": 79,
   "id": "0915119e",
   "metadata": {
    "execution": {
     "iopub.execute_input": "2021-10-04T11:29:23.311860Z",
     "iopub.status.busy": "2021-10-04T11:29:23.310904Z",
     "iopub.status.idle": "2021-10-04T11:30:03.535621Z",
     "shell.execute_reply": "2021-10-04T11:30:03.534878Z",
     "shell.execute_reply.started": "2021-10-04T10:05:22.714634Z"
    },
    "papermill": {
     "duration": 40.321886,
     "end_time": "2021-10-04T11:30:03.535818",
     "exception": false,
     "start_time": "2021-10-04T11:29:23.213932",
     "status": "completed"
    },
    "tags": []
   },
   "outputs": [
    {
     "name": "stdout",
     "output_type": "stream",
     "text": [
      "Fitting 10 folds for each of 72 candidates, totalling 720 fits\n"
     ]
    },
    {
     "name": "stderr",
     "output_type": "stream",
     "text": [
      "[Parallel(n_jobs=4)]: Using backend LokyBackend with 4 concurrent workers.\n",
      "[Parallel(n_jobs=4)]: Done  76 tasks      | elapsed:    4.4s\n",
      "[Parallel(n_jobs=4)]: Done 376 tasks      | elapsed:   21.0s\n",
      "[Parallel(n_jobs=4)]: Done 720 out of 720 | elapsed:   39.9s finished\n"
     ]
    },
    {
     "data": {
      "text/plain": [
       "0.8320097037793668"
      ]
     },
     "execution_count": 79,
     "metadata": {},
     "output_type": "execute_result"
    }
   ],
   "source": [
    "GBC=GradientBoostingClassifier()\n",
    "gb_param_grid={\"loss\":[\"deviance\"],\n",
    "              'n_estimators':[100,200,300],\n",
    "              'learning_rate':[0.1,0.05,0.01],\n",
    "              'max_depth':[4,8],\n",
    "              \"min_samples_leaf\":[100,150],\n",
    "              'max_features':[0.3,0.1]}\n",
    "\n",
    "gsGBC=GridSearchCV(GBC, param_grid=gb_param_grid, cv=kfold, scoring=\"accuracy\", n_jobs=4, verbose=1)\n",
    "gsGBC.fit(X_train, Y_train)\n",
    "GBC_best=gsGBC.best_estimator_\n",
    "\n",
    "gsGBC.best_score_"
   ]
  },
  {
   "cell_type": "code",
   "execution_count": 80,
   "id": "212d99e1",
   "metadata": {
    "execution": {
     "iopub.execute_input": "2021-10-04T11:30:03.731513Z",
     "iopub.status.busy": "2021-10-04T11:30:03.730842Z",
     "iopub.status.idle": "2021-10-04T11:30:42.696352Z",
     "shell.execute_reply": "2021-10-04T11:30:42.695698Z",
     "shell.execute_reply.started": "2021-10-04T10:06:07.600134Z"
    },
    "papermill": {
     "duration": 39.063989,
     "end_time": "2021-10-04T11:30:42.696497",
     "exception": false,
     "start_time": "2021-10-04T11:30:03.632508",
     "status": "completed"
    },
    "tags": []
   },
   "outputs": [
    {
     "name": "stdout",
     "output_type": "stream",
     "text": [
      "Fitting 10 folds for each of 28 candidates, totalling 280 fits\n"
     ]
    },
    {
     "name": "stderr",
     "output_type": "stream",
     "text": [
      "[Parallel(n_jobs=4)]: Using backend LokyBackend with 4 concurrent workers.\n",
      "[Parallel(n_jobs=4)]: Done  42 tasks      | elapsed:    4.6s\n",
      "[Parallel(n_jobs=4)]: Done 192 tasks      | elapsed:   22.8s\n",
      "[Parallel(n_jobs=4)]: Done 280 out of 280 | elapsed:   38.6s finished\n"
     ]
    },
    {
     "data": {
      "text/plain": [
       "0.8331332992849847"
      ]
     },
     "execution_count": 80,
     "metadata": {},
     "output_type": "execute_result"
    }
   ],
   "source": [
    "SVMC=SVC(probability=True)\n",
    "svc_param_grid={\"kernel\":['rbf'],\n",
    "               'gamma':[0.001,0.01,0.1,1],\n",
    "               'C':[1,10,50,100,200,300,1000]}\n",
    "gsSVMC=GridSearchCV(SVMC, param_grid=svc_param_grid, cv=kfold, scoring=\"accuracy\", n_jobs=4, verbose=1)\n",
    "gsSVMC.fit(X_train, Y_train)\n",
    "\n",
    "SVMC_best=gsSVMC.best_estimator_\n",
    "\n",
    "gsSVMC.best_score_"
   ]
  },
  {
   "cell_type": "code",
   "execution_count": 81,
   "id": "1af81c29",
   "metadata": {
    "execution": {
     "iopub.execute_input": "2021-10-04T11:30:42.889382Z",
     "iopub.status.busy": "2021-10-04T11:30:42.888496Z",
     "iopub.status.idle": "2021-10-04T11:30:42.891200Z",
     "shell.execute_reply": "2021-10-04T11:30:42.890638Z",
     "shell.execute_reply.started": "2021-10-04T10:09:01.661606Z"
    },
    "papermill": {
     "duration": 0.10093,
     "end_time": "2021-10-04T11:30:42.891349",
     "exception": false,
     "start_time": "2021-10-04T11:30:42.790419",
     "status": "completed"
    },
    "tags": []
   },
   "outputs": [],
   "source": [
    "def plot_learning_curve(estimator, title, X,y, ylim=None, cv=None,\n",
    "                       n_jobs=-1, train_sizes=np.linspace(.1, 1.0, 5)):\n",
    "    plt.figure()\n",
    "    plt.title(title)\n",
    "    if ylim is not None:\n",
    "        plt.ylim(*ylim)\n",
    "    plt.xlabel(\"Training examples\")\n",
    "    plt.ylabel(\"Score\")\n",
    "    train_sizes, train_scores, test_scores=learning_curve(estimator, X,y, cv=cv, n_jobs=n_jobs, train_sizes=train_sizes)\n",
    "    train_scores_mean=np.mean(train_scores, axis=1)\n",
    "    train_scores_std=np.std(train_scores,axis=1)\n",
    "    \n",
    "    test_scores_mean=np.mean(test_scores, axis=1)\n",
    "    test_scores_std=np.std(test_scores, axis=1)\n",
    "\n",
    "    plt.fill_between(train_sizes, train_scores_mean-train_scores_std,\n",
    "                    train_scores_mean+train_scores_std, alpha=0.1, color=\"r\")\n",
    "    plt.fill_between(train_sizes, test_scores_mean - test_scores_std,\n",
    "                    test_scores_mean+test_scores_std, alpha=0.1, color=\"g\")\n",
    "\n",
    "    plt.plot(train_sizes, train_scores_mean, 'o-', color=\"r\",label=\"Training score\")\n",
    "    plt.plot(train_sizes, test_scores_mean, 'o-', color=\"g\",label=\"Cross-validation score\")\n",
    "    plt.legend(loc=\"best\")\n",
    "    return plt\n",
    "        "
   ]
  },
  {
   "cell_type": "code",
   "execution_count": 82,
   "id": "5ccc2b11",
   "metadata": {
    "execution": {
     "iopub.execute_input": "2021-10-04T11:30:43.089282Z",
     "iopub.status.busy": "2021-10-04T11:30:43.088601Z",
     "iopub.status.idle": "2021-10-04T11:31:02.383303Z",
     "shell.execute_reply": "2021-10-04T11:31:02.382794Z",
     "shell.execute_reply.started": "2021-10-04T10:09:03.003096Z"
    },
    "papermill": {
     "duration": 19.39483,
     "end_time": "2021-10-04T11:31:02.383448",
     "exception": false,
     "start_time": "2021-10-04T11:30:42.988618",
     "status": "completed"
    },
    "tags": []
   },
   "outputs": [
    {
     "data": {
      "image/png": "[encoded data removed]",
      "text/plain": [
       "<Figure size 432x288 with 1 Axes>"
      ]
     },
     "metadata": {},
     "output_type": "display_data"
    },
    {
     "data": {
      "image/png": "[encoded data removed]",
      "text/plain": [
       "<Figure size 432x288 with 1 Axes>"
      ]
     },
     "metadata": {},
     "output_type": "display_data"
    },
    {
     "data": {
      "image/png": "[encoded data removed]",
      "text/plain": [
       "<Figure size 432x288 with 1 Axes>"
      ]
     },
     "metadata": {},
     "output_type": "display_data"
    },
    {
     "data": {
      "image/png": "[encoded data removed]",
      "text/plain": [
       "<Figure size 432x288 with 1 Axes>"
      ]
     },
     "metadata": {},
     "output_type": "display_data"
    },
    {
     "data": {
      "image/png": "[encoded data removed]",
      "text/plain": [
       "<Figure size 432x288 with 1 Axes>"
      ]
     },
     "metadata": {},
     "output_type": "display_data"
    }
   ],
   "source": [
    "g=plot_learning_curve(gsRFC.best_estimator_,\"RF learning curves\", X_train, Y_train, cv=kfold)\n",
    "g=plot_learning_curve(gsExtC.best_estimator_,\"ExtraTrees learning curves\", X_train, Y_train, cv=kfold)\n",
    "g=plot_learning_curve(gsSVMC.best_estimator_,\"SVC learning curves\", X_train, Y_train, cv=kfold)\n",
    "g=plot_learning_curve(gsadaDTC.best_estimator_,\"AdaBoost learning curves\", X_train, Y_train, cv=kfold)\n",
    "g=plot_learning_curve(gsGBC.best_estimator_,\"GradientBoosting learning curves\", X_train, Y_train, cv=kfold)"
   ]
  },
  {
   "cell_type": "code",
   "execution_count": 83,
   "id": "2f475e8a",
   "metadata": {
    "execution": {
     "iopub.execute_input": "2021-10-04T11:31:02.598086Z",
     "iopub.status.busy": "2021-10-04T11:31:02.597194Z",
     "iopub.status.idle": "2021-10-04T11:31:05.036397Z",
     "shell.execute_reply": "2021-10-04T11:31:05.036866Z",
     "shell.execute_reply.started": "2021-10-04T10:20:32.500175Z"
    },
    "papermill": {
     "duration": 2.547594,
     "end_time": "2021-10-04T11:31:05.037048",
     "exception": false,
     "start_time": "2021-10-04T11:31:02.489454",
     "status": "completed"
    },
    "tags": []
   },
   "outputs": [
    {
     "data": {
      "image/png": "[encoded data removed]",
      "text/plain": [
       "<Figure size 1080x1080 with 4 Axes>"
      ]
     },
     "metadata": {},
     "output_type": "display_data"
    }
   ],
   "source": [
    "nrows = ncols = 2\n",
    "fig, axes = plt.subplots(nrows = nrows, ncols = ncols, sharex=\"all\", figsize=(15,15))\n",
    "\n",
    "names_classifiers = [(\"AdaBoosting\", ada_best),(\"ExtraTrees\",ExtC_best),(\"RandomForest\",RFC_best),(\"GradientBoosting\",GBC_best)]\n",
    "\n",
    "nclassifier = 0\n",
    "for row in range(nrows):\n",
    "    for col in range(ncols):\n",
    "        name = names_classifiers[nclassifier][0]\n",
    "        classifier = names_classifiers[nclassifier][1]\n",
    "        indices = np.argsort(classifier.feature_importances_)[::-1][:40]\n",
    "        g = sns.barplot(y=X_train.columns[indices][:40],x = classifier.feature_importances_[indices][:40] , orient='h',ax=axes[row][col])\n",
    "        g.set_xlabel(\"Relative importance\",fontsize=12)\n",
    "        g.set_ylabel(\"Features\",fontsize=12)\n",
    "        g.tick_params(labelsize=9)\n",
    "        g.set_title(name + \" feature importance\")\n",
    "        nclassifier += 1"
   ]
  },
  {
   "cell_type": "code",
   "execution_count": 84,
   "id": "3ac196c0",
   "metadata": {
    "execution": {
     "iopub.execute_input": "2021-10-04T11:31:05.254678Z",
     "iopub.status.busy": "2021-10-04T11:31:05.254101Z",
     "iopub.status.idle": "2021-10-04T11:31:05.630068Z",
     "shell.execute_reply": "2021-10-04T11:31:05.630504Z",
     "shell.execute_reply.started": "2021-10-04T10:20:44.361911Z"
    },
    "papermill": {
     "duration": 0.486408,
     "end_time": "2021-10-04T11:31:05.630679",
     "exception": false,
     "start_time": "2021-10-04T11:31:05.144271",
     "status": "completed"
    },
    "tags": []
   },
   "outputs": [
    {
     "data": {
      "image/png": "[encoded data removed]",
      "text/plain": [
       "<Figure size 432x288 with 2 Axes>"
      ]
     },
     "metadata": {},
     "output_type": "display_data"
    }
   ],
   "source": [
    "test_Survived_RFC = pd.Series(RFC_best.predict(test), name=\"RFC\")\n",
    "test_Survived_ExtC = pd.Series(ExtC_best.predict(test), name=\"ExtC\")\n",
    "test_Survived_SVMC = pd.Series(SVMC_best.predict(test), name=\"SVC\")\n",
    "test_Survived_AdaC = pd.Series(ada_best.predict(test), name=\"Ada\")\n",
    "test_Survived_GBC = pd.Series(GBC_best.predict(test), name=\"GBC\")\n",
    "\n",
    "\n",
    "# Concatenate all classifier results\n",
    "ensemble_results = pd.concat([test_Survived_RFC,test_Survived_ExtC,test_Survived_AdaC,test_Survived_GBC, test_Survived_SVMC],axis=1)\n",
    "\n",
    "\n",
    "g= sns.heatmap(ensemble_results.corr(),annot=True)"
   ]
  },
  {
   "cell_type": "code",
   "execution_count": 85,
   "id": "f6dd5a61",
   "metadata": {
    "execution": {
     "iopub.execute_input": "2021-10-04T11:31:05.850120Z",
     "iopub.status.busy": "2021-10-04T11:31:05.849521Z",
     "iopub.status.idle": "2021-10-04T11:31:06.487697Z",
     "shell.execute_reply": "2021-10-04T11:31:06.487134Z",
     "shell.execute_reply.started": "2021-10-04T10:20:53.003494Z"
    },
    "papermill": {
     "duration": 0.749017,
     "end_time": "2021-10-04T11:31:06.487851",
     "exception": false,
     "start_time": "2021-10-04T11:31:05.738834",
     "status": "completed"
    },
    "tags": []
   },
   "outputs": [],
   "source": [
    "votingC = VotingClassifier(estimators=[('rfc', RFC_best), ('extc', ExtC_best),\n",
    "('svc', SVMC_best), ('adac',ada_best),('gbc',GBC_best)], voting='soft', n_jobs=4)\n",
    "\n",
    "votingC = votingC.fit(X_train, Y_train)"
   ]
  },
  {
   "cell_type": "code",
   "execution_count": 86,
   "id": "e001d2fc",
   "metadata": {
    "execution": {
     "iopub.execute_input": "2021-10-04T11:31:06.709409Z",
     "iopub.status.busy": "2021-10-04T11:31:06.708812Z",
     "iopub.status.idle": "2021-10-04T11:31:06.797052Z",
     "shell.execute_reply": "2021-10-04T11:31:06.796444Z",
     "shell.execute_reply.started": "2021-10-04T10:20:59.239993Z"
    },
    "papermill": {
     "duration": 0.202078,
     "end_time": "2021-10-04T11:31:06.797193",
     "exception": false,
     "start_time": "2021-10-04T11:31:06.595115",
     "status": "completed"
    },
    "tags": []
   },
   "outputs": [],
   "source": [
    "test_Survived = pd.Series(votingC.predict(test), name=\"Survived\")\n",
    "\n",
    "results = pd.concat([IDtest,test_Survived],axis=1)\n",
    "\n",
    "results.to_csv(\"ensemble_python_voting.csv\",index=False)"
   ]
  },
  {
   "cell_type": "code",
   "execution_count": null,
   "id": "83838e3c",
   "metadata": {
    "papermill": {
     "duration": 0.107217,
     "end_time": "2021-10-04T11:31:07.013646",
     "exception": false,
     "start_time": "2021-10-04T11:31:06.906429",
     "status": "completed"
    },
    "tags": []
   },
   "outputs": [],
   "source": []
  }
 ],
 "metadata": {
  "kernelspec": {
   "display_name": "Python 3",
   "language": "python",
   "name": "python3"
  },
  "language_info": {
   "codemirror_mode": {
    "name": "ipython",
    "version": 3
   },
   "file_extension": ".py",
   "mimetype": "text/x-python",
   "name": "python",
   "nbconvert_exporter": "python",
   "pygments_lexer": "ipython3",
   "version": "3.7.10"
  },
  "papermill": {
   "default_parameters": {},
   "duration": 284.953452,
   "end_time": "2021-10-04T11:31:08.333543",
   "environment_variables": {},
   "exception": null,
   "input_path": "__notebook__.ipynb",
   "output_path": "__notebook__.ipynb",
   "parameters": {},
   "start_time": "2021-10-04T11:26:23.380091",
   "version": "2.3.3"
  }
 },
 "nbformat": 4,
 "nbformat_minor": 5
}
